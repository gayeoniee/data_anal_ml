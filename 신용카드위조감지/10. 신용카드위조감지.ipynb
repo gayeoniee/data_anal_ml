{
 "cells": [
  {
   "cell_type": "code",
   "execution_count": 171,
   "id": "3e5499ea",
   "metadata": {},
   "outputs": [],
   "source": [
    "import numpy as np\n",
    "import pandas as pd\n",
    "from sklearn.model_selection import train_test_split\n",
    "from sklearn.metrics import accuracy_score, classification_report, confusion_matrix, roc_auc_score, f1_score\n",
    "from sklearn.linear_model import LogisticRegression\n",
    "from sklearn.ensemble import RandomForestClassifier\n",
    "import matplotlib.pyplot as plt\n",
    "import seaborn as sns\n",
    "\n",
    "import warnings\n",
    "warnings.filterwarnings(action='ignore')"
   ]
  },
  {
   "cell_type": "code",
   "execution_count": 172,
   "id": "fb11feb4",
   "metadata": {},
   "outputs": [],
   "source": [
    "creditcard = pd.read_csv('creditcard.csv')"
   ]
  },
  {
   "cell_type": "code",
   "execution_count": 173,
   "id": "7dc3f8a0",
   "metadata": {},
   "outputs": [
    {
     "data": {
      "text/html": [
       "<div>\n",
       "<style scoped>\n",
       "    .dataframe tbody tr th:only-of-type {\n",
       "        vertical-align: middle;\n",
       "    }\n",
       "\n",
       "    .dataframe tbody tr th {\n",
       "        vertical-align: top;\n",
       "    }\n",
       "\n",
       "    .dataframe thead th {\n",
       "        text-align: right;\n",
       "    }\n",
       "</style>\n",
       "<table border=\"1\" class=\"dataframe\">\n",
       "  <thead>\n",
       "    <tr style=\"text-align: right;\">\n",
       "      <th></th>\n",
       "      <th>Time</th>\n",
       "      <th>V1</th>\n",
       "      <th>V2</th>\n",
       "      <th>V3</th>\n",
       "      <th>V4</th>\n",
       "      <th>V5</th>\n",
       "      <th>V6</th>\n",
       "      <th>V7</th>\n",
       "      <th>V8</th>\n",
       "      <th>V9</th>\n",
       "      <th>...</th>\n",
       "      <th>V21</th>\n",
       "      <th>V22</th>\n",
       "      <th>V23</th>\n",
       "      <th>V24</th>\n",
       "      <th>V25</th>\n",
       "      <th>V26</th>\n",
       "      <th>V27</th>\n",
       "      <th>V28</th>\n",
       "      <th>Amount</th>\n",
       "      <th>Class</th>\n",
       "    </tr>\n",
       "  </thead>\n",
       "  <tbody>\n",
       "    <tr>\n",
       "      <th>0</th>\n",
       "      <td>0.0</td>\n",
       "      <td>-1.359807</td>\n",
       "      <td>-0.072781</td>\n",
       "      <td>2.536347</td>\n",
       "      <td>1.378155</td>\n",
       "      <td>-0.338321</td>\n",
       "      <td>0.462388</td>\n",
       "      <td>0.239599</td>\n",
       "      <td>0.098698</td>\n",
       "      <td>0.363787</td>\n",
       "      <td>...</td>\n",
       "      <td>-0.018307</td>\n",
       "      <td>0.277838</td>\n",
       "      <td>-0.110474</td>\n",
       "      <td>0.066928</td>\n",
       "      <td>0.128539</td>\n",
       "      <td>-0.189115</td>\n",
       "      <td>0.133558</td>\n",
       "      <td>-0.021053</td>\n",
       "      <td>149.62</td>\n",
       "      <td>0</td>\n",
       "    </tr>\n",
       "    <tr>\n",
       "      <th>1</th>\n",
       "      <td>0.0</td>\n",
       "      <td>1.191857</td>\n",
       "      <td>0.266151</td>\n",
       "      <td>0.166480</td>\n",
       "      <td>0.448154</td>\n",
       "      <td>0.060018</td>\n",
       "      <td>-0.082361</td>\n",
       "      <td>-0.078803</td>\n",
       "      <td>0.085102</td>\n",
       "      <td>-0.255425</td>\n",
       "      <td>...</td>\n",
       "      <td>-0.225775</td>\n",
       "      <td>-0.638672</td>\n",
       "      <td>0.101288</td>\n",
       "      <td>-0.339846</td>\n",
       "      <td>0.167170</td>\n",
       "      <td>0.125895</td>\n",
       "      <td>-0.008983</td>\n",
       "      <td>0.014724</td>\n",
       "      <td>2.69</td>\n",
       "      <td>0</td>\n",
       "    </tr>\n",
       "    <tr>\n",
       "      <th>2</th>\n",
       "      <td>1.0</td>\n",
       "      <td>-1.358354</td>\n",
       "      <td>-1.340163</td>\n",
       "      <td>1.773209</td>\n",
       "      <td>0.379780</td>\n",
       "      <td>-0.503198</td>\n",
       "      <td>1.800499</td>\n",
       "      <td>0.791461</td>\n",
       "      <td>0.247676</td>\n",
       "      <td>-1.514654</td>\n",
       "      <td>...</td>\n",
       "      <td>0.247998</td>\n",
       "      <td>0.771679</td>\n",
       "      <td>0.909412</td>\n",
       "      <td>-0.689281</td>\n",
       "      <td>-0.327642</td>\n",
       "      <td>-0.139097</td>\n",
       "      <td>-0.055353</td>\n",
       "      <td>-0.059752</td>\n",
       "      <td>378.66</td>\n",
       "      <td>0</td>\n",
       "    </tr>\n",
       "    <tr>\n",
       "      <th>3</th>\n",
       "      <td>1.0</td>\n",
       "      <td>-0.966272</td>\n",
       "      <td>-0.185226</td>\n",
       "      <td>1.792993</td>\n",
       "      <td>-0.863291</td>\n",
       "      <td>-0.010309</td>\n",
       "      <td>1.247203</td>\n",
       "      <td>0.237609</td>\n",
       "      <td>0.377436</td>\n",
       "      <td>-1.387024</td>\n",
       "      <td>...</td>\n",
       "      <td>-0.108300</td>\n",
       "      <td>0.005274</td>\n",
       "      <td>-0.190321</td>\n",
       "      <td>-1.175575</td>\n",
       "      <td>0.647376</td>\n",
       "      <td>-0.221929</td>\n",
       "      <td>0.062723</td>\n",
       "      <td>0.061458</td>\n",
       "      <td>123.50</td>\n",
       "      <td>0</td>\n",
       "    </tr>\n",
       "    <tr>\n",
       "      <th>4</th>\n",
       "      <td>2.0</td>\n",
       "      <td>-1.158233</td>\n",
       "      <td>0.877737</td>\n",
       "      <td>1.548718</td>\n",
       "      <td>0.403034</td>\n",
       "      <td>-0.407193</td>\n",
       "      <td>0.095921</td>\n",
       "      <td>0.592941</td>\n",
       "      <td>-0.270533</td>\n",
       "      <td>0.817739</td>\n",
       "      <td>...</td>\n",
       "      <td>-0.009431</td>\n",
       "      <td>0.798278</td>\n",
       "      <td>-0.137458</td>\n",
       "      <td>0.141267</td>\n",
       "      <td>-0.206010</td>\n",
       "      <td>0.502292</td>\n",
       "      <td>0.219422</td>\n",
       "      <td>0.215153</td>\n",
       "      <td>69.99</td>\n",
       "      <td>0</td>\n",
       "    </tr>\n",
       "  </tbody>\n",
       "</table>\n",
       "<p>5 rows × 31 columns</p>\n",
       "</div>"
      ],
      "text/plain": [
       "   Time        V1        V2        V3        V4        V5        V6        V7  \\\n",
       "0   0.0 -1.359807 -0.072781  2.536347  1.378155 -0.338321  0.462388  0.239599   \n",
       "1   0.0  1.191857  0.266151  0.166480  0.448154  0.060018 -0.082361 -0.078803   \n",
       "2   1.0 -1.358354 -1.340163  1.773209  0.379780 -0.503198  1.800499  0.791461   \n",
       "3   1.0 -0.966272 -0.185226  1.792993 -0.863291 -0.010309  1.247203  0.237609   \n",
       "4   2.0 -1.158233  0.877737  1.548718  0.403034 -0.407193  0.095921  0.592941   \n",
       "\n",
       "         V8        V9  ...       V21       V22       V23       V24       V25  \\\n",
       "0  0.098698  0.363787  ... -0.018307  0.277838 -0.110474  0.066928  0.128539   \n",
       "1  0.085102 -0.255425  ... -0.225775 -0.638672  0.101288 -0.339846  0.167170   \n",
       "2  0.247676 -1.514654  ...  0.247998  0.771679  0.909412 -0.689281 -0.327642   \n",
       "3  0.377436 -1.387024  ... -0.108300  0.005274 -0.190321 -1.175575  0.647376   \n",
       "4 -0.270533  0.817739  ... -0.009431  0.798278 -0.137458  0.141267 -0.206010   \n",
       "\n",
       "        V26       V27       V28  Amount  Class  \n",
       "0 -0.189115  0.133558 -0.021053  149.62      0  \n",
       "1  0.125895 -0.008983  0.014724    2.69      0  \n",
       "2 -0.139097 -0.055353 -0.059752  378.66      0  \n",
       "3 -0.221929  0.062723  0.061458  123.50      0  \n",
       "4  0.502292  0.219422  0.215153   69.99      0  \n",
       "\n",
       "[5 rows x 31 columns]"
      ]
     },
     "execution_count": 173,
     "metadata": {},
     "output_type": "execute_result"
    }
   ],
   "source": [
    "card_df = pd.DataFrame(creditcard)\n",
    "card_df.head()"
   ]
  },
  {
   "cell_type": "code",
   "execution_count": 174,
   "id": "4e5029d0",
   "metadata": {},
   "outputs": [
    {
     "name": "stdout",
     "output_type": "stream",
     "text": [
      "<class 'pandas.core.frame.DataFrame'>\n",
      "RangeIndex: 284807 entries, 0 to 284806\n",
      "Data columns (total 31 columns):\n",
      " #   Column  Non-Null Count   Dtype  \n",
      "---  ------  --------------   -----  \n",
      " 0   Time    284807 non-null  float64\n",
      " 1   V1      284807 non-null  float64\n",
      " 2   V2      284807 non-null  float64\n",
      " 3   V3      284807 non-null  float64\n",
      " 4   V4      284807 non-null  float64\n",
      " 5   V5      284807 non-null  float64\n",
      " 6   V6      284807 non-null  float64\n",
      " 7   V7      284807 non-null  float64\n",
      " 8   V8      284807 non-null  float64\n",
      " 9   V9      284807 non-null  float64\n",
      " 10  V10     284807 non-null  float64\n",
      " 11  V11     284807 non-null  float64\n",
      " 12  V12     284807 non-null  float64\n",
      " 13  V13     284807 non-null  float64\n",
      " 14  V14     284807 non-null  float64\n",
      " 15  V15     284807 non-null  float64\n",
      " 16  V16     284807 non-null  float64\n",
      " 17  V17     284807 non-null  float64\n",
      " 18  V18     284807 non-null  float64\n",
      " 19  V19     284807 non-null  float64\n",
      " 20  V20     284807 non-null  float64\n",
      " 21  V21     284807 non-null  float64\n",
      " 22  V22     284807 non-null  float64\n",
      " 23  V23     284807 non-null  float64\n",
      " 24  V24     284807 non-null  float64\n",
      " 25  V25     284807 non-null  float64\n",
      " 26  V26     284807 non-null  float64\n",
      " 27  V27     284807 non-null  float64\n",
      " 28  V28     284807 non-null  float64\n",
      " 29  Amount  284807 non-null  float64\n",
      " 30  Class   284807 non-null  int64  \n",
      "dtypes: float64(30), int64(1)\n",
      "memory usage: 67.4 MB\n"
     ]
    }
   ],
   "source": [
    "card_df.info()"
   ]
  },
  {
   "cell_type": "code",
   "execution_count": 175,
   "id": "e236b61a",
   "metadata": {},
   "outputs": [
    {
     "data": {
      "text/plain": [
       "Class\n",
       "0    0.998273\n",
       "1    0.001727\n",
       "Name: proportion, dtype: float64"
      ]
     },
     "execution_count": 175,
     "metadata": {},
     "output_type": "execute_result"
    }
   ],
   "source": [
    "card_df['Class'].value_counts(normalize=True) "
   ]
  },
  {
   "cell_type": "code",
   "execution_count": 176,
   "id": "e0bd7110",
   "metadata": {},
   "outputs": [
    {
     "data": {
      "text/plain": [
       "<Axes: xlabel='Class', ylabel='count'>"
      ]
     },
     "execution_count": 176,
     "metadata": {},
     "output_type": "execute_result"
    },
    {
     "data": {
      "image/png": "[encoded data removed]",
      "text/plain": [
       "<Figure size 640x480 with 1 Axes>"
      ]
     },
     "metadata": {},
     "output_type": "display_data"
    }
   ],
   "source": [
    "sns.countplot(x='Class', data=card_df)  # 클래스 분포\n",
    "sns.histplot(data=card_df, x='Amount', hue='Class', bins=50, log_scale=(False, True))\n",
    "sns.boxplot(x='Class', y='Amount', data=card_df)"
   ]
  },
  {
   "cell_type": "code",
   "execution_count": 177,
   "id": "e0e41709",
   "metadata": {},
   "outputs": [],
   "source": [
    "# IQR 기반 이상치 제거 함수\n",
    "def remove_outliers_iqr(df, column):\n",
    "    Q1 = df[column].quantile(0.25)\n",
    "    Q3 = df[column].quantile(0.75)\n",
    "    IQR = Q3 - Q1\n",
    "    lower_bound = Q1 - 1.5 * IQR\n",
    "    upper_bound = Q3 + 1.5 * IQR\n",
    "\n",
    "    print(f\"IQR: {IQR:.2f}\")\n",
    "    print(f\"Lower Bound: {lower_bound:.2f}\")\n",
    "    print(f\"Upper Bound: {upper_bound:.2f}\")\n",
    "\n",
    "    return df[(df[column] >= lower_bound) & (df[column] <= upper_bound)]"
   ]
  },
  {
   "cell_type": "code",
   "execution_count": 178,
   "id": "ebfead97",
   "metadata": {},
   "outputs": [
    {
     "name": "stdout",
     "output_type": "stream",
     "text": [
      "IQR: 71.40\n",
      "Lower Bound: -101.45\n",
      "Upper Bound: 184.15\n",
      "제거 전: 284807 rows\n",
      "제거 후: 252945 rows\n"
     ]
    }
   ],
   "source": [
    "normal = card_df[card_df['Class'] == 0]\n",
    "fraud = card_df[card_df['Class'] == 1]\n",
    "normal_filtered = remove_outliers_iqr(normal, 'Amount')\n",
    "filtered_df = pd.concat([normal_filtered, fraud], axis=0).reset_index(drop=True)\n",
    "print(f\"제거 전: {len(card_df)} rows\")\n",
    "print(f\"제거 후: {len(filtered_df)} rows\")"
   ]
  },
  {
   "cell_type": "code",
   "execution_count": 179,
   "id": "ff8e7651",
   "metadata": {},
   "outputs": [
    {
     "name": "stdout",
     "output_type": "stream",
     "text": [
      "Class\n",
      "0    252453\n",
      "1       492\n",
      "Name: count, dtype: int64\n",
      "Class\n",
      "0    0.998055\n",
      "1    0.001945\n",
      "Name: proportion, dtype: float64\n"
     ]
    }
   ],
   "source": [
    "print(filtered_df['Class'].value_counts())\n",
    "print(filtered_df['Class'].value_counts(normalize=True))"
   ]
  },
  {
   "cell_type": "code",
   "execution_count": null,
   "id": "bc81b9ea",
   "metadata": {},
   "outputs": [],
   "source": []
  },
  {
   "cell_type": "code",
   "execution_count": 180,
   "id": "6d2fa0d3",
   "metadata": {},
   "outputs": [],
   "source": [
    "from sklearn.preprocessing import StandardScaler\n",
    "\n",
    "filtered_df['scaled_amount'] = StandardScaler().fit_transform(filtered_df['Amount'].values.reshape(-1, 1))\n",
    "filtered_df['scaled_time'] = StandardScaler().fit_transform(filtered_df['Time'].values.reshape(-1, 1))\n",
    "filtered_df.drop(['Amount', 'Time'], axis=1, inplace=True)"
   ]
  },
  {
   "cell_type": "code",
   "execution_count": 181,
   "id": "d34967dd",
   "metadata": {},
   "outputs": [],
   "source": [
    "#폰트 지정\n",
    "from matplotlib import rcParams\n",
    "rcParams['font.family'] = 'Gulim'\n",
    "rcParams['axes.unicode_minus'] = False"
   ]
  },
  {
   "cell_type": "code",
   "execution_count": 182,
   "id": "8060de72",
   "metadata": {},
   "outputs": [
    {
     "name": "stdout",
     "output_type": "stream",
     "text": [
      "V17   -0.338907\n",
      "V14   -0.315810\n",
      "V12   -0.272855\n",
      "V7    -0.231969\n",
      "V10   -0.230452\n",
      "V16   -0.215057\n",
      "V3    -0.212084\n",
      "V11    0.163727\n",
      "V4     0.144193\n",
      "V18   -0.120430\n",
      "Name: Class, dtype: float64\n"
     ]
    },
    {
     "data": {
      "image/png": "[encoded data removed]",
      "text/plain": [
       "<Figure size 2000x800 with 2 Axes>"
      ]
     },
     "metadata": {},
     "output_type": "display_data"
    }
   ],
   "source": [
    "# 상관관계 행렬 계산\n",
    "corr_matrix = filtered_df.corr()\n",
    "\n",
    "# 타겟 변수(Class)와의 상관관계만 추출\n",
    "target_corr = corr_matrix['Class'].drop('Class').sort_values(key=abs, ascending=False)\n",
    "\n",
    "# 상위 상관 변수 출력\n",
    "print(target_corr.head(10))  # 중요 변수 확인\n",
    "\n",
    "# 히트맵 시각화\n",
    "plt.figure(figsize=(20, 8))\n",
    "sns.heatmap(corr_matrix[['Class']].T, annot=True, cmap='coolwarm')\n",
    "plt.title('Class와 각 변수 간 상관관계')\n",
    "plt.show()"
   ]
  },
  {
   "cell_type": "code",
   "execution_count": 183,
   "id": "6eaa7d71",
   "metadata": {},
   "outputs": [],
   "source": [
    "X = filtered_df.drop('Class', axis=1)\n",
    "y = filtered_df['Class']"
   ]
  },
  {
   "cell_type": "code",
   "execution_count": 184,
   "id": "e166d6c5",
   "metadata": {},
   "outputs": [
    {
     "name": "stdout",
     "output_type": "stream",
     "text": [
      "\n",
      "[로지스틱 회귀]\n",
      "              precision    recall  f1-score   support\n",
      "\n",
      "           0       1.00      1.00      1.00     50491\n",
      "           1       0.90      0.67      0.77        98\n",
      "\n",
      "    accuracy                           1.00     50589\n",
      "   macro avg       0.95      0.84      0.89     50589\n",
      "weighted avg       1.00      1.00      1.00     50589\n",
      "\n",
      "Accuracy: 0.9992290814208622\n",
      "ROC-AUC: 0.9777666983689556\n",
      "\n",
      "[XGBoost]\n",
      "              precision    recall  f1-score   support\n",
      "\n",
      "           0       1.00      1.00      1.00     50491\n",
      "           1       0.95      0.81      0.87        98\n",
      "\n",
      "    accuracy                           1.00     50589\n",
      "   macro avg       0.98      0.90      0.94     50589\n",
      "weighted avg       1.00      1.00      1.00     50589\n",
      "\n",
      "Accuracy: 0.9995453557097392\n",
      "ROC-AUC: 0.9777666983689556\n",
      "\n",
      "[RandomForest]\n",
      "              precision    recall  f1-score   support\n",
      "\n",
      "           0       1.00      1.00      1.00     50491\n",
      "           1       0.96      0.82      0.88        98\n",
      "\n",
      "    accuracy                           1.00     50589\n",
      "   macro avg       0.98      0.91      0.94     50589\n",
      "weighted avg       1.00      1.00      1.00     50589\n",
      "\n",
      "Accuracy: 0.9995848899958489\n",
      "ROC-AUC: 0.9777666983689556\n",
      "\n",
      "[lightGBM]\n",
      "              precision    recall  f1-score   support\n",
      "\n",
      "           0       1.00      1.00      1.00     50491\n",
      "           1       0.28      0.63      0.38        98\n",
      "\n",
      "    accuracy                           1.00     50589\n",
      "   macro avg       0.64      0.81      0.69     50589\n",
      "weighted avg       1.00      1.00      1.00     50589\n",
      "\n",
      "Accuracy: 0.9960663385320919\n",
      "ROC-AUC: 0.9777666983689556\n"
     ]
    }
   ],
   "source": [
    "from xgboost import XGBClassifier\n",
    "from lightgbm import LGBMClassifier\n",
    "\n",
    "def evaluate_model(model, X, y, name):\n",
    "    X_train, X_test, y_train, y_test = train_test_split(X, y, stratify=y, test_size=0.2, random_state=42)\n",
    "    model.fit(X_train, y_train)\n",
    "\n",
    "    pred = model.predict(X_test)\n",
    "    proba = xgb.predict_proba(X_test)[:,1]\n",
    "\n",
    "    print(f\"\\n[{name}]\")\n",
    "    print(classification_report(y_test, pred))\n",
    "    print(\"Accuracy:\", accuracy_score(y_test, pred))\n",
    "    print(\"ROC-AUC:\", roc_auc_score(y_test, proba))\n",
    "\n",
    "# 1. 로지스틱 회귀\n",
    "lr = LogisticRegression(max_iter=1000)\n",
    "evaluate_model(lr, X, y, \"로지스틱 회귀\")\n",
    "\n",
    "# 2. XGBoost\n",
    "xgb = XGBClassifier(use_label_encoder=False, eval_metric='logloss', random_state=42)\n",
    "evaluate_model(xgb, X, y, \"XGBoost\")\n",
    "\n",
    "# 3. RandomForest\n",
    "rf = RandomForestClassifier(random_state=42)\n",
    "evaluate_model(rf, X, y, \"RandomForest\")\n",
    "\n",
    "# 4. lightGBM\n",
    "lgbm = LGBMClassifier(random_state=42)\n",
    "evaluate_model(lgbm, X, y, \"lightGBM\")"
   ]
  },
  {
   "cell_type": "markdown",
   "id": "b0609ee2",
   "metadata": {},
   "source": [
    "- 로지스틱 회귀:\n",
    "\n",
    "    Recall이 낮음 (0.64) -> 사기를 자주 놓침\n",
    "\n",
    "    Precision은 높은 편\n",
    "\n",
    "    비선형 경계에는 약함\n",
    "\n",
    "- RandomForest:\n",
    "\n",
    "    전형적으로 강한 성능, Recall과 Precision 균형 잘 맞춤\n",
    "\n",
    "- XGBoost:\n",
    "\n",
    "    성능 최고\n",
    "\n",
    "    Recall(0.85), Precision(0.94) 모두 뛰어남 -> 실전에서 사기 잘 잡는 모델\n",
    "\n",
    "    F1-score = 0.89 → 최고 성능"
   ]
  },
  {
   "cell_type": "code",
   "execution_count": null,
   "id": "c0bc95cc",
   "metadata": {},
   "outputs": [],
   "source": []
  },
  {
   "cell_type": "code",
   "execution_count": 185,
   "id": "3f19cfd7",
   "metadata": {},
   "outputs": [
    {
     "name": "stdout",
     "output_type": "stream",
     "text": [
      "              precision    recall  f1-score   support\n",
      "\n",
      "           0       1.00      1.00      1.00     50491\n",
      "           1       0.98      0.81      0.88        98\n",
      "\n",
      "    accuracy                           1.00     50589\n",
      "   macro avg       0.99      0.90      0.94     50589\n",
      "weighted avg       1.00      1.00      1.00     50589\n",
      "\n",
      "f1-score: 0.88268156424581\n",
      "ROC-AUC: 0.9706872390674595\n"
     ]
    }
   ],
   "source": [
    "X_train, X_test, y_train, y_test = train_test_split(X, y, stratify=y, test_size=0.2, random_state=42)\n",
    "\n",
    "xgb = XGBClassifier(\n",
    "    random_state=42,\n",
    "    use_label_encoder=False\n",
    ")\n",
    "\n",
    "xgb.fit(\n",
    "    X_train, y_train,\n",
    "    eval_set=[(X_test, y_test)],\n",
    "    eval_metric='logloss',\n",
    "    early_stopping_rounds=40,\n",
    "    verbose=False\n",
    ")\n",
    "\n",
    "pred = xgb.predict(X_test)\n",
    "proba = xgb.predict_proba(X_test)[:,1]\n",
    "\n",
    "print(classification_report(y_test, pred))\n",
    "print(\"f1-score:\", f1_score(y_test, pred))\n",
    "print(\"ROC-AUC:\", roc_auc_score(y_test, proba))"
   ]
  },
  {
   "cell_type": "code",
   "execution_count": 186,
   "id": "c52731b3",
   "metadata": {},
   "outputs": [
    {
     "data": {
      "text/plain": [
       "array([[50489,     2],\n",
       "       [   19,    79]])"
      ]
     },
     "execution_count": 186,
     "metadata": {},
     "output_type": "execute_result"
    }
   ],
   "source": [
    "confusion_matrix(y_test, pred)"
   ]
  },
  {
   "cell_type": "code",
   "execution_count": 187,
   "id": "ebe5e218",
   "metadata": {},
   "outputs": [
    {
     "data": {
      "image/png": "[encoded data removed]",
      "text/plain": [
       "<Figure size 640x480 with 1 Axes>"
      ]
     },
     "metadata": {},
     "output_type": "display_data"
    }
   ],
   "source": [
    "from sklearn.metrics import precision_recall_curve\n",
    "precisions, recalls, thresholds = precision_recall_curve(y_test, proba)\n",
    "\n",
    "# 시각화해서 최적 균형점 찾기\n",
    "import matplotlib.pyplot as plt\n",
    "plt.plot(thresholds, precisions[:-1], label='Precision')\n",
    "plt.plot(thresholds, recalls[:-1], label='Recall')\n",
    "plt.xlabel(\"Threshold\")\n",
    "plt.legend()\n",
    "plt.grid()\n",
    "plt.show()"
   ]
  },
  {
   "cell_type": "code",
   "execution_count": 188,
   "id": "760ae1db",
   "metadata": {},
   "outputs": [
    {
     "name": "stdout",
     "output_type": "stream",
     "text": [
      "Best Threshold: 0.3360\n",
      "Best F1-score: 0.8913\n"
     ]
    }
   ],
   "source": [
    "f1_scores = [f1_score(y_test, proba >= thr) for thr in thresholds]\n",
    "best_index = np.argmax(f1_scores)\n",
    "best_threshold = thresholds[best_index]\n",
    "best_f1 = f1_scores[best_index]\n",
    "\n",
    "print(f\"Best Threshold: {best_threshold:.4f}\")\n",
    "print(f\"Best F1-score: {best_f1:.4f}\")"
   ]
  },
  {
   "cell_type": "code",
   "execution_count": 189,
   "id": "56a183ff",
   "metadata": {},
   "outputs": [
    {
     "name": "stdout",
     "output_type": "stream",
     "text": [
      "              precision    recall  f1-score   support\n",
      "\n",
      "           0       1.00      1.00      1.00     50491\n",
      "           1       0.95      0.84      0.89        98\n",
      "\n",
      "    accuracy                           1.00     50589\n",
      "   macro avg       0.98      0.92      0.95     50589\n",
      "weighted avg       1.00      1.00      1.00     50589\n",
      "\n"
     ]
    }
   ],
   "source": [
    "best_pred = (proba >= best_threshold).astype(int)\n",
    "\n",
    "print(classification_report(y_test, best_pred))"
   ]
  },
  {
   "cell_type": "code",
   "execution_count": 190,
   "id": "dbd920bc",
   "metadata": {},
   "outputs": [
    {
     "data": {
      "text/plain": [
       "array([[50487,     4],\n",
       "       [   16,    82]])"
      ]
     },
     "execution_count": 190,
     "metadata": {},
     "output_type": "execute_result"
    }
   ],
   "source": [
    "confusion_matrix(y_test, best_pred)"
   ]
  },
  {
   "cell_type": "code",
   "execution_count": 191,
   "id": "01494d8b",
   "metadata": {},
   "outputs": [
    {
     "name": "stdout",
     "output_type": "stream",
     "text": [
      "  Threshold  Precision    Recall  F1-score\n",
      "0       0.5   0.975309  0.806122  0.882682\n",
      "1    0.3360   0.953488  0.836735  0.891304\n"
     ]
    }
   ],
   "source": [
    "from sklearn.metrics import precision_score, recall_score, f1_score\n",
    "\n",
    "# threshold=0.5일 때\n",
    "pred_05 = (proba >= 0.5).astype(int)\n",
    "precision_05 = precision_score(y_test, pred_05)\n",
    "recall_05 = recall_score(y_test, pred_05)\n",
    "f1_05 = f1_score(y_test, pred_05)\n",
    "\n",
    "# best threshold일 때\n",
    "pred_best = (proba >= best_threshold).astype(int)\n",
    "precision_best = precision_score(y_test, pred_best)\n",
    "recall_best = recall_score(y_test, pred_best)\n",
    "f1_best = f1_score(y_test, pred_best)\n",
    "\n",
    "# 비교표 만들기\n",
    "comparison_df = pd.DataFrame({\n",
    "    'Threshold': ['0.5', f'{best_threshold:.4f}'],\n",
    "    'Precision': [precision_05, precision_best],\n",
    "    'Recall': [recall_05, recall_best],\n",
    "    'F1-score': [f1_05, f1_best]\n",
    "})\n",
    "\n",
    "print(comparison_df)"
   ]
  },
  {
   "cell_type": "markdown",
   "id": "1c74e20b",
   "metadata": {},
   "source": [
    "## 오버샘플링"
   ]
  },
  {
   "cell_type": "code",
   "execution_count": 212,
   "id": "f34377eb",
   "metadata": {},
   "outputs": [
    {
     "name": "stdout",
     "output_type": "stream",
     "text": [
      "평가 결과\n",
      "              precision    recall  f1-score   support\n",
      "\n",
      "           0       1.00      1.00      1.00     50491\n",
      "           1       0.85      0.87      0.86        98\n",
      "\n",
      "    accuracy                           1.00     50589\n",
      "   macro avg       0.92      0.93      0.93     50589\n",
      "weighted avg       1.00      1.00      1.00     50589\n",
      "\n",
      "ROC-AUC: 0.9743591401821864\n"
     ]
    }
   ],
   "source": [
    "from imblearn.over_sampling import SMOTE\n",
    "\n",
    "X = filtered_df.drop('Class', axis=1)\n",
    "y = filtered_df['Class']\n",
    "\n",
    "X_train, X_test, y_train, y_test = train_test_split(X, y, stratify=y, test_size=0.2, random_state=42)\n",
    "\n",
    "smote = SMOTE(random_state=42)\n",
    "X_train_smote, y_train_smote = smote.fit_resample(X_train, y_train)\n",
    "\n",
    "xgb_over = XGBClassifier(\n",
    "    random_state=42,\n",
    "    use_label_encoder=False\n",
    ")\n",
    "xgb_over.fit(\n",
    "    X_train_smote, y_train_smote,\n",
    "    eval_set=[(X_test, y_test)],\n",
    "    eval_metric='logloss',\n",
    "    verbose=False\n",
    ")\n",
    "\n",
    "over_pred = xgb_over.predict(X_test)\n",
    "over_proba = xgb_over.predict_proba(X_test)[:, 1]\n",
    "\n",
    "print(\"평가 결과\")\n",
    "print(classification_report(y_test, over_pred))\n",
    "print(\"ROC-AUC:\", roc_auc_score(y_test, over_proba))"
   ]
  },
  {
   "cell_type": "code",
   "execution_count": 213,
   "id": "5b03d9a4",
   "metadata": {},
   "outputs": [
    {
     "data": {
      "text/plain": [
       "array([[50476,    15],\n",
       "       [   13,    85]])"
      ]
     },
     "execution_count": 213,
     "metadata": {},
     "output_type": "execute_result"
    }
   ],
   "source": [
    "confusion_matrix(y_test, over_pred)"
   ]
  },
  {
   "cell_type": "code",
   "execution_count": 214,
   "id": "9425b111",
   "metadata": {},
   "outputs": [
    {
     "data": {
      "image/png": "[encoded data removed]",
      "text/plain": [
       "<Figure size 640x480 with 1 Axes>"
      ]
     },
     "metadata": {},
     "output_type": "display_data"
    }
   ],
   "source": [
    "from sklearn.metrics import precision_recall_curve\n",
    "precisions, recalls, thresholds = precision_recall_curve(y_test, over_proba)\n",
    "\n",
    "# 시각화해서 최적 균형점 찾기\n",
    "import matplotlib.pyplot as plt\n",
    "plt.plot(thresholds, precisions[:-1], label='Precision')\n",
    "plt.plot(thresholds, recalls[:-1], label='Recall')\n",
    "plt.xlabel(\"Threshold\")\n",
    "plt.legend()\n",
    "plt.grid()\n",
    "plt.show()"
   ]
  },
  {
   "cell_type": "code",
   "execution_count": 203,
   "id": "f8c3c661",
   "metadata": {},
   "outputs": [
    {
     "name": "stdout",
     "output_type": "stream",
     "text": [
      "\n",
      "[로지스틱 회귀]\n",
      "              precision    recall  f1-score   support\n",
      "\n",
      "           0       1.00      0.98      0.99     50491\n",
      "           1       0.09      0.87      0.17        98\n",
      "\n",
      "    accuracy                           0.98     50589\n",
      "   macro avg       0.55      0.93      0.58     50589\n",
      "weighted avg       1.00      0.98      0.99     50589\n",
      "\n",
      "Accuracy: 0.9830200241159145\n",
      "ROC-AUC: 0.9706872390674595\n",
      "\n",
      "[XGBoost]\n",
      "              precision    recall  f1-score   support\n",
      "\n",
      "           0       1.00      1.00      1.00     50491\n",
      "           1       0.85      0.87      0.86        98\n",
      "\n",
      "    accuracy                           1.00     50589\n",
      "   macro avg       0.92      0.93      0.93     50589\n",
      "weighted avg       1.00      1.00      1.00     50589\n",
      "\n",
      "Accuracy: 0.9994465199944652\n",
      "ROC-AUC: 0.9743591401821864\n",
      "\n",
      "[RandomForest]\n",
      "              precision    recall  f1-score   support\n",
      "\n",
      "           0       1.00      1.00      1.00     50491\n",
      "           1       0.92      0.82      0.86        98\n",
      "\n",
      "    accuracy                           1.00     50589\n",
      "   macro avg       0.96      0.91      0.93     50589\n",
      "weighted avg       1.00      1.00      1.00     50589\n",
      "\n",
      "Accuracy: 0.9995058214236296\n",
      "ROC-AUC: 0.9743591401821864\n",
      "\n",
      "[lightGBM]\n",
      "              precision    recall  f1-score   support\n",
      "\n",
      "           0       1.00      1.00      1.00     50491\n",
      "           1       0.70      0.85      0.76        98\n",
      "\n",
      "    accuracy                           1.00     50589\n",
      "   macro avg       0.85      0.92      0.88     50589\n",
      "weighted avg       1.00      1.00      1.00     50589\n",
      "\n",
      "Accuracy: 0.9989918757042044\n",
      "ROC-AUC: 0.9743591401821864\n"
     ]
    }
   ],
   "source": [
    "def evaluate_model(model, X, y, name):\n",
    "    X_train, X_test, y_train, y_test = train_test_split(X, y, stratify=y, test_size=0.2, random_state=42)\n",
    "\n",
    "    smote = SMOTE(random_state=42)\n",
    "    X_train_smote, y_train_smote = smote.fit_resample(X_train, y_train)\n",
    "    \n",
    "    model.fit(X_train_smote, y_train_smote)\n",
    "\n",
    "    pred = model.predict(X_test)\n",
    "    proba = xgb.predict_proba(X_test)[:,1]\n",
    "\n",
    "    print(f\"\\n[{name}]\")\n",
    "    print(classification_report(y_test, pred))\n",
    "    print(\"Accuracy:\", accuracy_score(y_test, pred))\n",
    "    print(\"ROC-AUC:\", roc_auc_score(y_test, proba))\n",
    "\n",
    "# 1. 로지스틱 회귀\n",
    "lr = LogisticRegression(max_iter=1000)\n",
    "evaluate_model(lr, X, y, \"로지스틱 회귀\")\n",
    "\n",
    "# 2. XGBoost\n",
    "xgb = XGBClassifier(use_label_encoder=False, eval_metric='logloss', random_state=42)\n",
    "evaluate_model(xgb, X, y, \"XGBoost\")\n",
    "\n",
    "# 3. RandomForest\n",
    "rf = RandomForestClassifier(random_state=42)\n",
    "evaluate_model(rf, X, y, \"RandomForest\")\n",
    "\n",
    "# 4. lightGBM\n",
    "lgbm = LGBMClassifier(random_state=42)\n",
    "evaluate_model(lgbm, X, y, \"lightGBM\")"
   ]
  },
  {
   "cell_type": "code",
   "execution_count": 217,
   "id": "8c95280b",
   "metadata": {},
   "outputs": [
    {
     "name": "stdout",
     "output_type": "stream",
     "text": [
      "평가 결과\n",
      "              precision    recall  f1-score   support\n",
      "\n",
      "           0       1.00      1.00      1.00     50491\n",
      "           1       0.70      0.85      0.76        98\n",
      "\n",
      "    accuracy                           1.00     50589\n",
      "   macro avg       0.85      0.92      0.88     50589\n",
      "weighted avg       1.00      1.00      1.00     50589\n",
      "\n",
      "ROC-AUC: 0.9750345484889407\n"
     ]
    }
   ],
   "source": [
    "lgbm_over = LGBMClassifier(\n",
    "    random_state=42,\n",
    ")\n",
    "lgbm_over.fit(\n",
    "    X_train_smote, y_train_smote,\n",
    "    eval_set=[(X_test, y_test)],\n",
    "    eval_metric='logloss',\n",
    "    verbose=False\n",
    ")\n",
    "\n",
    "over_pred = lgbm_over.predict(X_test)\n",
    "over_proba = lgbm_over.predict_proba(X_test)[:, 1]\n",
    "\n",
    "print(\"평가 결과\")\n",
    "print(classification_report(y_test, over_pred))\n",
    "print(\"ROC-AUC:\", roc_auc_score(y_test, over_proba))"
   ]
  },
  {
   "cell_type": "code",
   "execution_count": 218,
   "id": "c41415f1",
   "metadata": {},
   "outputs": [
    {
     "data": {
      "text/plain": [
       "array([[50455,    36],\n",
       "       [   15,    83]])"
      ]
     },
     "execution_count": 218,
     "metadata": {},
     "output_type": "execute_result"
    }
   ],
   "source": [
    "confusion_matrix(y_test, over_pred)"
   ]
  },
  {
   "cell_type": "code",
   "execution_count": null,
   "id": "050af3b0",
   "metadata": {},
   "outputs": [],
   "source": []
  }
 ],
 "metadata": {
  "kernelspec": {
   "display_name": "hi_ml_env",
   "language": "python",
   "name": "python3"
  },
  "language_info": {
   "codemirror_mode": {
    "name": "ipython",
    "version": 3
   },
   "file_extension": ".py",
   "mimetype": "text/x-python",
   "name": "python",
   "nbconvert_exporter": "python",
   "pygments_lexer": "ipython3",
   "version": "3.10.16"
  }
 },
 "nbformat": 4,
 "nbformat_minor": 5
}
