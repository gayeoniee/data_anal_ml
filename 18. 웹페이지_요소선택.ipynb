{
 "cells": [
  {
   "cell_type": "markdown",
   "id": "b951326f",
   "metadata": {},
   "source": []
  },
  {
   "cell_type": "code",
   "execution_count": 1,
   "id": "3c5de23b",
   "metadata": {},
   "outputs": [],
   "source": [
    "html = \"\"\"\n",
    "<html>\n",
    "<head><title>HTML Sample</title>\n",
    "</head>\n",
    "<body>\n",
    "    <h1>Hello CSS</h1>\n",
    "    <div id=\"subject\">선택자</div>\n",
    "    <div class=\"contents\">선택자를 어떻게 작성하느냐에 따라\n",
    "      <span>다른 <b>요소가 반환</b></span> 됩니다.</div>\n",
    "    <div>CSS 선택자는 다양한 곳에서 <b>활용</b>됩니다.</div>\n",
    "</body>\n",
    "</html>\n",
    "\"\"\""
   ]
  },
  {
   "cell_type": "code",
   "execution_count": 2,
   "id": "8020f3f3",
   "metadata": {},
   "outputs": [
    {
     "data": {
      "text/plain": [
       "\n",
       "<html>\n",
       "<head><title>HTML Sample</title>\n",
       "</head>\n",
       "<body>\n",
       "<h1>Hello CSS</h1>\n",
       "<div id=\"subject\">선택자</div>\n",
       "<div class=\"contents\">선택자를 어떻게 작성하느냐에 따라\n",
       "      <span>다른 <b>요소가 반환</b></span> 됩니다.</div>\n",
       "<div>CSS 선택자는 다양한 곳에서 <b>활용</b>됩니다.</div>\n",
       "</body>\n",
       "</html>"
      ]
     },
     "execution_count": 2,
     "metadata": {},
     "output_type": "execute_result"
    }
   ],
   "source": [
    "from bs4 import BeautifulSoup\n",
    "soup = BeautifulSoup(html, 'html.parser')\n",
    "soup"
   ]
  },
  {
   "cell_type": "code",
   "execution_count": 5,
   "id": "62c9b905",
   "metadata": {},
   "outputs": [
    {
     "data": {
      "text/plain": [
       "'Hello CSS'"
      ]
     },
     "execution_count": 5,
     "metadata": {},
     "output_type": "execute_result"
    }
   ],
   "source": [
    "el = soup.select_one('h1')\n",
    "el.text"
   ]
  },
  {
   "cell_type": "code",
   "execution_count": 7,
   "id": "ab5afdf6",
   "metadata": {},
   "outputs": [
    {
     "data": {
      "text/plain": [
       "[<div id=\"subject\">선택자</div>,\n",
       " <div class=\"contents\">선택자를 어떻게 작성하느냐에 따라\n",
       "       <span>다른 <b>요소가 반환</b></span> 됩니다.</div>,\n",
       " <div>CSS 선택자는 다양한 곳에서 <b>활용</b>됩니다.</div>]"
      ]
     },
     "execution_count": 7,
     "metadata": {},
     "output_type": "execute_result"
    }
   ],
   "source": [
    "div_el = soup.select('div')\n",
    "div_el"
   ]
  },
  {
   "cell_type": "code",
   "execution_count": 8,
   "id": "1011321d",
   "metadata": {},
   "outputs": [
    {
     "name": "stdout",
     "output_type": "stream",
     "text": [
      "선택자\n",
      "선택자를 어떻게 작성하느냐에 따라\n",
      "      다른 요소가 반환 됩니다.\n",
      "CSS 선택자는 다양한 곳에서 활용됩니다.\n"
     ]
    }
   ],
   "source": [
    "for d in div_el:\n",
    "    print(d.text)"
   ]
  },
  {
   "cell_type": "code",
   "execution_count": 11,
   "id": "56bb34de",
   "metadata": {},
   "outputs": [
    {
     "data": {
      "text/plain": [
       "[<h1>Hello CSS</h1>, <span>다른 <b>요소가 반환</b></span>]"
      ]
     },
     "execution_count": 11,
     "metadata": {},
     "output_type": "execute_result"
    }
   ],
   "source": [
    "soup.select('h1, span')"
   ]
  },
  {
   "cell_type": "code",
   "execution_count": 18,
   "id": "eb7b1721",
   "metadata": {},
   "outputs": [
    {
     "data": {
      "text/plain": [
       "[<b>요소가 반환</b>, <b>활용</b>]"
      ]
     },
     "execution_count": 18,
     "metadata": {},
     "output_type": "execute_result"
    }
   ],
   "source": [
    "# div > span > b    ->  후손이 다 나옴\n",
    "soup.select('div b')"
   ]
  },
  {
   "cell_type": "code",
   "execution_count": 19,
   "id": "cbc53162",
   "metadata": {},
   "outputs": [
    {
     "data": {
      "text/plain": [
       "[<b>활용</b>]"
      ]
     },
     "execution_count": 19,
     "metadata": {},
     "output_type": "execute_result"
    }
   ],
   "source": [
    "soup.select('div > b')      # 직계만 나옴"
   ]
  },
  {
   "cell_type": "code",
   "execution_count": 20,
   "id": "0da91cc3",
   "metadata": {},
   "outputs": [
    {
     "data": {
      "text/plain": [
       "[<div class=\"contents\">선택자를 어떻게 작성하느냐에 따라\n",
       "       <span>다른 <b>요소가 반환</b></span> 됩니다.</div>]"
      ]
     },
     "execution_count": 20,
     "metadata": {},
     "output_type": "execute_result"
    }
   ],
   "source": [
    "soup.select('.contents')"
   ]
  },
  {
   "cell_type": "code",
   "execution_count": 21,
   "id": "c3fbff68",
   "metadata": {},
   "outputs": [
    {
     "data": {
      "text/plain": [
       "[<div id=\"subject\">선택자</div>]"
      ]
     },
     "execution_count": 21,
     "metadata": {},
     "output_type": "execute_result"
    }
   ],
   "source": [
    "soup.select('#subject')"
   ]
  },
  {
   "cell_type": "code",
   "execution_count": 22,
   "id": "79a75e88",
   "metadata": {},
   "outputs": [
    {
     "data": {
      "text/plain": [
       "[<div id=\"subject\">선택자</div>]"
      ]
     },
     "execution_count": 22,
     "metadata": {},
     "output_type": "execute_result"
    }
   ],
   "source": [
    "soup.select('[id=subject]')"
   ]
  },
  {
   "cell_type": "markdown",
   "id": "6ce80d99",
   "metadata": {},
   "source": [
    "# 정규표현식"
   ]
  },
  {
   "cell_type": "code",
   "execution_count": 23,
   "id": "0a74b29b",
   "metadata": {},
   "outputs": [
    {
     "name": "stdout",
     "output_type": "stream",
     "text": [
      "123\n"
     ]
    }
   ],
   "source": [
    "import re\n",
    "pattern = re.compile(r'\\d+')   # 숫자이면서 1개이상 반복되는 것\n",
    "match = pattern.match('123abc')\n",
    "\n",
    "if match:\n",
    "    print(match.group())"
   ]
  },
  {
   "cell_type": "code",
   "execution_count": 24,
   "id": "163e04b4",
   "metadata": {},
   "outputs": [
    {
     "data": {
      "text/plain": [
       "<re.Match object; span=(0, 3), match='123'>"
      ]
     },
     "execution_count": 24,
     "metadata": {},
     "output_type": "execute_result"
    }
   ],
   "source": [
    "match"
   ]
  },
  {
   "cell_type": "code",
   "execution_count": 26,
   "id": "90b64a56",
   "metadata": {},
   "outputs": [],
   "source": [
    "# 1. 전화번호 추출\n",
    "string = 'hello grovy04@gmail.com 010-222-3333 world 02-5678-9988'"
   ]
  },
  {
   "cell_type": "code",
   "execution_count": 33,
   "id": "b1088231",
   "metadata": {},
   "outputs": [
    {
     "data": {
      "text/plain": [
       "['010-222-3333', '02-5678-9988']"
      ]
     },
     "execution_count": 33,
     "metadata": {},
     "output_type": "execute_result"
    }
   ],
   "source": [
    "# 2. 패턴 정하기\n",
    "# d는 숫자 찾기, {이상, 이하} 반복횟수 지정\n",
    "pattern = re.compile(r'\\d{2,3}-\\d{3,4}-\\d{4}')\n",
    "# match_list = pattern.match(string)     # 처음부터 찾기\n",
    "match_list = pattern.search(string)     # 1개 찾기\n",
    "match_list = pattern.findall(string)\n",
    "\n",
    "match_list"
   ]
  },
  {
   "cell_type": "code",
   "execution_count": 34,
   "id": "c07c9b82",
   "metadata": {},
   "outputs": [
    {
     "name": "stdout",
     "output_type": "stream",
     "text": [
      "['grovy04@gmail.com']\n"
     ]
    }
   ],
   "source": [
    "# 이메일 패턴\n",
    "email_pattern = re.compile(r'[a-zA-Z0-9._%+-]+@[a-zA-Z0-9.-]+\\.[a-zA-Z]{2,}') \n",
    "\n",
    "email_list = re.findall(email_pattern, string)\n",
    "print(email_list)"
   ]
  },
  {
   "cell_type": "code",
   "execution_count": 36,
   "id": "a7936c5d",
   "metadata": {},
   "outputs": [
    {
     "data": {
      "text/plain": [
       "['123', '456']"
      ]
     },
     "execution_count": 36,
     "metadata": {},
     "output_type": "execute_result"
    }
   ],
   "source": [
    "string2 = 'abc123def456'\n",
    "result = re.compile(r'\\d+')\n",
    "result.match(string2)\n",
    "result.search(string2)\n",
    "result.findall(string2)"
   ]
  },
  {
   "cell_type": "code",
   "execution_count": 38,
   "id": "d0466947",
   "metadata": {},
   "outputs": [
    {
     "data": {
      "text/plain": [
       "'abc***def***'"
      ]
     },
     "execution_count": 38,
     "metadata": {},
     "output_type": "execute_result"
    }
   ],
   "source": [
    "result.sub('***', string2)"
   ]
  },
  {
   "cell_type": "markdown",
   "id": "197bcb1f",
   "metadata": {},
   "source": [
    "# selenium"
   ]
  },
  {
   "cell_type": "code",
   "execution_count": 39,
   "id": "b67c9ed3",
   "metadata": {},
   "outputs": [
    {
     "name": "stdout",
     "output_type": "stream",
     "text": [
      "4.34.2\n"
     ]
    }
   ],
   "source": [
    "import selenium\n",
    "print(selenium.__version__)"
   ]
  },
  {
   "cell_type": "code",
   "execution_count": 40,
   "id": "3a5f00e0",
   "metadata": {},
   "outputs": [],
   "source": [
    "from selenium import webdriver\n",
    "from selenium.webdriver.chrome.options import Options"
   ]
  },
  {
   "cell_type": "code",
   "execution_count": 42,
   "id": "fa51e9a8",
   "metadata": {},
   "outputs": [],
   "source": [
    "driver = webdriver.Chrome()\n",
    "driver.get('https://www.python.org/')"
   ]
  },
  {
   "cell_type": "code",
   "execution_count": 43,
   "id": "ee4b0fda",
   "metadata": {},
   "outputs": [],
   "source": [
    "driver.close()"
   ]
  },
  {
   "cell_type": "code",
   "execution_count": null,
   "id": "44dadb62",
   "metadata": {},
   "outputs": [],
   "source": []
  }
 ],
 "metadata": {
  "kernelspec": {
   "display_name": "webcrawl_env",
   "language": "python",
   "name": "python3"
  },
  "language_info": {
   "codemirror_mode": {
    "name": "ipython",
    "version": 3
   },
   "file_extension": ".py",
   "mimetype": "text/x-python",
   "name": "python",
   "nbconvert_exporter": "python",
   "pygments_lexer": "ipython3",
   "version": "3.10.18"
  }
 },
 "nbformat": 4,
 "nbformat_minor": 5
}
