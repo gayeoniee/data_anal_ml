{
 "cells": [
  {
   "cell_type": "markdown",
   "id": "71c926b5",
   "metadata": {},
   "source": []
  },
  {
   "cell_type": "code",
   "execution_count": 3,
   "id": "226228b5",
   "metadata": {},
   "outputs": [
    {
     "name": "stdout",
     "output_type": "stream",
     "text": [
      "c:\\html\\basic2.html\n",
      "c:\\githome\\data_anal_ml/html/basic2.html\n"
     ]
    }
   ],
   "source": [
    "import os\n",
    "file_path = os.getcwd() + '/html/basic2.html'\n",
    "print(os.path.abspath('/html/basic2.html'))\n",
    "print(file_path)"
   ]
  },
  {
   "cell_type": "code",
   "execution_count": 4,
   "id": "aaf3bdf1",
   "metadata": {},
   "outputs": [
    {
     "data": {
      "text/plain": [
       "'file:///c:\\\\githome\\\\data_anal_ml/html/basic2.html'"
      ]
     },
     "execution_count": 4,
     "metadata": {},
     "output_type": "execute_result"
    }
   ],
   "source": [
    "url = 'file:///' + file_path\n",
    "url"
   ]
  },
  {
   "cell_type": "code",
   "execution_count": 5,
   "id": "d6784c98",
   "metadata": {},
   "outputs": [],
   "source": [
    "from selenium import webdriver\n",
    "driver = webdriver.Chrome()\n",
    "driver.get(url)"
   ]
  },
  {
   "cell_type": "code",
   "execution_count": 6,
   "id": "527c634f",
   "metadata": {},
   "outputs": [],
   "source": [
    "username_el = driver.find_element(by='name', value='username')\n",
    "username_el.send_keys('gayeon')"
   ]
  },
  {
   "cell_type": "code",
   "execution_count": 7,
   "id": "8c6f6d98",
   "metadata": {},
   "outputs": [],
   "source": [
    "password_el = driver.find_element(by='name', value='password')\n",
    "password_el.send_keys('kkkkkkkk')"
   ]
  },
  {
   "cell_type": "code",
   "execution_count": 12,
   "id": "28b9756a",
   "metadata": {},
   "outputs": [],
   "source": [
    "# 파이썬전문가그룹의 링크값\n",
    "link = driver.find_element(by='link text', value='파이썬전문가그룹')   # a태그\n",
    "link.click()"
   ]
  },
  {
   "cell_type": "code",
   "execution_count": 13,
   "id": "7507e857",
   "metadata": {},
   "outputs": [],
   "source": [
    "driver.back()"
   ]
  },
  {
   "cell_type": "markdown",
   "id": "ad7729f3",
   "metadata": {},
   "source": [
    "# 검섹 결과 가져오기"
   ]
  },
  {
   "cell_type": "code",
   "execution_count": 15,
   "id": "0e2df7bb",
   "metadata": {},
   "outputs": [],
   "source": [
    "from selenium.webdriver.common.by import By"
   ]
  },
  {
   "cell_type": "code",
   "execution_count": null,
   "id": "73605f0d",
   "metadata": {},
   "outputs": [],
   "source": [
    "c"
   ]
  },
  {
   "cell_type": "code",
   "execution_count": 20,
   "id": "d64d6fe6",
   "metadata": {},
   "outputs": [],
   "source": [
    "input_el = driver.find_element(by=By.ID, value='id-search-field')\n",
    "input_el.send_keys('pycon')"
   ]
  },
  {
   "cell_type": "code",
   "execution_count": 22,
   "id": "ce5670bd",
   "metadata": {},
   "outputs": [],
   "source": [
    "input_el2 = driver.find_element(by=By.CSS_SELECTOR, value='#id-search-field')\n",
    "input_el2.send_keys('aaaaaa')"
   ]
  },
  {
   "cell_type": "code",
   "execution_count": 23,
   "id": "b46de2dd",
   "metadata": {},
   "outputs": [],
   "source": [
    "from selenium.webdriver.common.keys import Keys\n",
    "\n",
    "driver = webdriver.Chrome()\n",
    "driver.get('https://www.python.org/')\n",
    "\n",
    "input_el = driver.find_element(by=By.ID, value='id-search-field')\n",
    "input_el.send_keys('pycon')\n",
    "\n",
    "input_el.send_keys(Keys.RETURN)"
   ]
  },
  {
   "cell_type": "code",
   "execution_count": 28,
   "id": "540121c1",
   "metadata": {},
   "outputs": [
    {
     "name": "stdout",
     "output_type": "stream",
     "text": [
      "PSF PyCon Trademark Usage Policy\n",
      "PyCon Italia 2016 (PyCon Sette)\n",
      "PyCon Australia 2013\n",
      "PyCon AU 2019\n",
      "PyCon NL 2025\n",
      "PyCon Australia 2014\n",
      "PyCon Ireland 2012\n",
      "PyCon Ireland 2016\n",
      "PyCon Ireland 2022\n",
      "PyCon Australia 2014\n",
      "PyCon Ireland 2024\n",
      "PyCon APAC 2025\n",
      "PyCon AU 2018\n",
      "PyCon APAC 2022\n",
      "PyCon PH 2024\n",
      "PyCon Ireland 2023\n",
      "PyCon PL 2014\n",
      "PyCon MY 2015\n",
      "PyCon Ireland 2015\n",
      "PyCon AU 2015\n"
     ]
    }
   ],
   "source": [
    "# #content > div > section > form > ul > li:nth-child(2) > h3 > a\n",
    "result_list = driver.find_elements(by=By.CSS_SELECTOR, value='form li h3 > a')\n",
    "for result in result_list:\n",
    "    print(result.text)"
   ]
  },
  {
   "cell_type": "code",
   "execution_count": null,
   "id": "1e694a7d",
   "metadata": {},
   "outputs": [
    {
     "name": "stdout",
     "output_type": "stream",
     "text": [
      "PSF PyCon Trademark Usage Policy\n",
      "PyCon Italia 2016 (PyCon Sette)\n",
      "PyCon Australia 2013\n",
      "PyCon AU 2019\n",
      "PyCon NL 2025\n",
      "PyCon Australia 2014\n",
      "PyCon Ireland 2012\n",
      "PyCon Ireland 2016\n",
      "PyCon Ireland 2022\n",
      "PyCon Australia 2014\n",
      "PyCon Ireland 2024\n",
      "PyCon APAC 2025\n",
      "PyCon AU 2018\n",
      "PyCon APAC 2022\n",
      "PyCon PH 2024\n",
      "PyCon Ireland 2023\n",
      "PyCon PL 2014\n",
      "PyCon MY 2015\n",
      "PyCon Ireland 2015\n",
      "PyCon AU 2015\n"
     ]
    }
   ],
   "source": [
    "from selenium.webdriver.common.keys import Keys\n",
    "\n",
    "driver = webdriver.Chrome()\n",
    "driver.get('https://www.python.org/')\n",
    "\n",
    "input_el = driver.find_element(by=By.ID, value='id-search-field')\n",
    "input_el.send_keys('pycon')           # 검색창에 pycon 입력\n",
    "\n",
    "input_el.send_keys(Keys.RETURN)       # enter\n",
    "\n",
    "driver.implicitly_wait(2)  # 명시적 대기 (브라우저 반응을 기다려 줌)\n",
    "\n",
    "# #content > div > section > form > ul > li:nth-child(2) > h3 > a\n",
    "result_list = driver.find_elements(by=By.CSS_SELECTOR, value='form li h3 > a')\n",
    "for result in result_list:\n",
    "    print(result.text)"
   ]
  },
  {
   "cell_type": "markdown",
   "id": "59c2d82e",
   "metadata": {},
   "source": [
    "# 날씨 정보를 일반적 조건으로 대기해서 가져오기"
   ]
  },
  {
   "cell_type": "code",
   "execution_count": 32,
   "id": "3ee36079",
   "metadata": {},
   "outputs": [],
   "source": [
    "import requests"
   ]
  },
  {
   "cell_type": "code",
   "execution_count": 33,
   "id": "75e711f5",
   "metadata": {},
   "outputs": [
    {
     "data": {
      "text/plain": [
       "<Response [200]>"
      ]
     },
     "execution_count": 33,
     "metadata": {},
     "output_type": "execute_result"
    }
   ],
   "source": [
    "url = 'https://www.weather.go.kr/w/index.do'\n",
    "\n",
    "res = requests.get(url)\n",
    "res"
   ]
  },
  {
   "cell_type": "code",
   "execution_count": 35,
   "id": "d7215982",
   "metadata": {},
   "outputs": [
    {
     "data": {
      "text/plain": [
       "[]"
      ]
     },
     "execution_count": 35,
     "metadata": {},
     "output_type": "execute_result"
    }
   ],
   "source": [
    "from bs4 import BeautifulSoup\n",
    "\n",
    "soup = BeautifulSoup(res.text, 'html.parser')\n",
    "soup.select('.tmp')"
   ]
  },
  {
   "cell_type": "code",
   "execution_count": null,
   "id": "f9849820",
   "metadata": {},
   "outputs": [],
   "source": [
    "# #current-weather > div.cmp-cur-weather.wbg.wbg-type2.BGDB00 > ul.wrap-1 > li.w-icon.w-temp.no-w > span.tmp"
   ]
  },
  {
   "cell_type": "code",
   "execution_count": null,
   "id": "744df17a",
   "metadata": {},
   "outputs": [
    {
     "data": {
      "text/plain": [
       "'34.7℃'"
      ]
     },
     "execution_count": 36,
     "metadata": {},
     "output_type": "execute_result"
    }
   ],
   "source": [
    "import time\n",
    "\n",
    "# res = requests.get(url)\n",
    "driver = webdriver.Chrome()\n",
    "driver.get(url)\n",
    "time.sleep(3)      # 명시적 대기\n",
    "element = driver.find_element(by=By.CSS_SELECTOR, value='div#current-weather span.tmp')\n",
    "element.text"
   ]
  },
  {
   "cell_type": "code",
   "execution_count": 40,
   "id": "515fe9e5",
   "metadata": {},
   "outputs": [
    {
     "name": "stdout",
     "output_type": "stream",
     "text": [
      "34.9℃\n"
     ]
    }
   ],
   "source": [
    "# 일반적 대기\n",
    "from selenium.webdriver.support import expected_conditions as EC\n",
    "from selenium.webdriver.support.ui import WebDriverWait\n",
    "\n",
    "driver = webdriver.Chrome()\n",
    "driver.get(url)\n",
    "\n",
    "wait = WebDriverWait(driver, 3)\n",
    "element_2 = wait.until(\n",
    "    # driver.find_element(by=By.CSS_SELECTOR, value='div#current-weather span.tmp')\n",
    "    EC.presence_of_element_located(('css selector', 'div#current-weather span.tmp'))\n",
    ")\n",
    "\n",
    "print(element_2.text)\n",
    "driver.close()"
   ]
  },
  {
   "cell_type": "code",
   "execution_count": null,
   "id": "21804ee4",
   "metadata": {},
   "outputs": [],
   "source": []
  }
 ],
 "metadata": {
  "kernelspec": {
   "display_name": "webcrawl_env",
   "language": "python",
   "name": "python3"
  },
  "language_info": {
   "codemirror_mode": {
    "name": "ipython",
    "version": 3
   },
   "file_extension": ".py",
   "mimetype": "text/x-python",
   "name": "python",
   "nbconvert_exporter": "python",
   "pygments_lexer": "ipython3",
   "version": "3.10.18"
  }
 },
 "nbformat": 4,
 "nbformat_minor": 5
}
