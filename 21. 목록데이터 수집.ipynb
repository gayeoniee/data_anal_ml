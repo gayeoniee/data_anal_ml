{
 "cells": [
  {
   "cell_type": "markdown",
   "id": "dc1981c5",
   "metadata": {},
   "source": [
    "# 도서 정보 객체"
   ]
  },
  {
   "cell_type": "code",
   "execution_count": 16,
   "id": "51cf167a",
   "metadata": {},
   "outputs": [],
   "source": [
    "class Book:\n",
    "    def __init__(self, rank, title, author, price):\n",
    "        self.rank = rank\n",
    "        self.title = title\n",
    "        self.author = author\n",
    "        self.price = price\n",
    "\n",
    "    def __str__(self):\n",
    "        return f\"{self.rank}, {self.title}, {self.author}, {self.price}\"\n",
    "    \n",
    "    def to_dict(self):\n",
    "        return {'rank':self.rank, \n",
    "                'title':self.title, \n",
    "                'author':self.author, \n",
    "                'price':self.price}\n",
    "    \n",
    "    def to_list(self):\n",
    "        return [self.rank, \n",
    "                self.title, \n",
    "                self.author, \n",
    "                self.price]"
   ]
  },
  {
   "cell_type": "markdown",
   "id": "32c00197",
   "metadata": {},
   "source": [
    "#yesBestList > li:nth-child(1) > div > div.item_info"
   ]
  },
  {
   "cell_type": "code",
   "execution_count": 17,
   "id": "a7f2518a",
   "metadata": {},
   "outputs": [
    {
     "data": {
      "text/plain": [
       "24"
      ]
     },
     "execution_count": 17,
     "metadata": {},
     "output_type": "execute_result"
    }
   ],
   "source": [
    "import requests\n",
    "from bs4 import BeautifulSoup\n",
    "\n",
    "url = 'https://www.yes24.com/Product/Category/BestSeller?categoryNumber=001'\n",
    "res = requests.get(url)\n",
    "soup = BeautifulSoup(res.content, 'html.parser')\n",
    "best_list_el = soup.select('#yesBestList div.item_info')\n",
    "len(best_list_el)\n"
   ]
  },
  {
   "cell_type": "code",
   "execution_count": 18,
   "id": "332d70ea",
   "metadata": {},
   "outputs": [
    {
     "data": {
      "text/plain": [
       "<div class=\"item_info\">\n",
       "<div class=\"info_row info_keynote\">\n",
       "<span class=\"gd_keynote\" id=\"spanGdKeynote\">\n",
       "<a class=\"iconC tBook\" href=\"/24/Category/More/001014?ElemNo=13&amp;ElemSeq=1&amp;Gcode=000_030_001\"><em class=\"txt\">오늘의책</em></a>\n",
       "<!-- 클래스24 상품일 경우 -->\n",
       "</span>\n",
       "<script type=\"text/javascript\">\n",
       "        if ($('#spanGdKeynote').children().length == 0) {\n",
       "            $('#spanGdKeynote').remove();\n",
       "        }\n",
       "    </script>\n",
       "</div>\n",
       "<div class=\"info_row info_name\">\n",
       "<span class=\"gd_res\">[도서]</span>\n",
       "<a class=\"gd_name\" href=\"/product/goods/143911524\" onclick=\"wiseLogV2('BS', '001_005_001', ''); \">혼모노</a>\n",
       "<a class=\"bgYUI ico_nWin\" href=\"/product/goods/143911524\" onclick=\"wiseLogV2('BS', '001_005_001', ''); \" target=\"_blank\">혼모노 새창이동</a>\n",
       "</div>\n",
       "<div class=\"info_row info_pubGrp\">\n",
       "<span class=\"authPub info_auth\" onclick=\"wiseLogV2('BS', '001_005_002', '');\">\n",
       "<a href=\"https://www.yes24.com/product/search?domain=ALL&amp;query=%25EC%2584%25B1%25ED%2595%25B4%25EB%2582%2598&amp;authorNo=253719&amp;author=성해나\" target=\"\">성해나</a> 저\n",
       "                            </span>\n",
       "<span class=\"authPub info_pub\" onclick=\"wiseLogV2('BS', '001_005_003', '');\"><a href=\"https://www.yes24.com/product/search?&amp;domain=ALL&amp;company=%ec%b0%bd%eb%b9%84&amp;query=%25EC%25B0%25BD%25EB%25B9%2584\">창비</a></span>\n",
       "<span class=\"authPub info_date\">2025년 03월</span>\n",
       "</div>\n",
       "<dl class=\"info_present\">\n",
       "<dt><em class=\"bgYUI ico_present\">구매혜택</em></dt>\n",
       "<dd>\n",
       "<a href=\"https://event.yes24.com/template?EventNo=260529\">사과 책갈피 선택가능(포인트 차감) </a>\n",
       "</dd>\n",
       "</dl>\n",
       "<div class=\"info_row info_price\">\n",
       "<span class=\"txt_sale\"><em class=\"num\">10</em>%</span>\n",
       "<strong class=\"txt_num\"><em class=\"yes_b\">16,200</em>원</strong>\n",
       "<span class=\"txt_num dash\"><em class=\"yes_m\">18,000</em>원</span>\n",
       "<span class=\"yPoint\"><em class=\"bgYUI ico_point\">포인트적립</em>900원</span>\n",
       "</div>\n",
       "<div class=\"info_row info_rating\">\n",
       "<span class=\"saleNum\">\n",
       "                                판매지수 689,622\n",
       "                            </span>\n",
       "<span class=\"rating_rvCount\">\n",
       "<a href=\"https://www.yes24.com/product/goods/143911524?ReviewYn=Y\" onclick=\"wiseLogV2('BS', '001_005_004', '');\"><em class=\"bit\">회원리뷰</em>(<em class=\"txC_blue\">350</em>건)</a>\n",
       "</span>\n",
       "<span class=\"rating_grade\">\n",
       "<span class=\"bgYUI tRating tRating_10\">리뷰 총점</span><em class=\"yes_b\">9.3</em>\n",
       "<span class=\"moreRatingArea\">\n",
       "<span class=\"moreRatingBtn\">\n",
       "<a class=\"bgYUI\" href=\"javascript:void(0);\" onclick=\"toggleLiCont(this,$('.sGLi'),event);\">정보 더 보기/감추기</a>\n",
       "</span>\n",
       "<span class=\"moreRatingLi\">\n",
       "<span class=\"moreRatingLiRow\">\n",
       "<ul class=\"yesAlertLi\">\n",
       "<li><em class=\"bl_dot bgYUI\"> </em>종이책 리뷰 (155건)</li>\n",
       "<li><em class=\"bl_dot bgYUI\"> </em>eBook 리뷰 (7건)</li>\n",
       "<li><em class=\"bl_dot bgYUI\"> </em>종이책 한줄평 (161건)</li>\n",
       "<li><em class=\"bl_dot bgYUI\"> </em>eBook 한줄평 (27건)</li>\n",
       "</ul>\n",
       "</span>\n",
       "</span>\n",
       "</span>\n",
       "</span>\n",
       "</div>\n",
       "<div class=\"info_row info_deli\" name=\"delvTextArea\"></div>\n",
       "<div class=\"info_row info_tag\">\n",
       "<span class=\"tag\">\n",
       "<a href=\"https://www.yes24.com/product/search?domain=ALL&amp;query=%25ED%2595%259C%25EA%25B5%25AD%25EB%25AC%25B8%25ED%2595%2599%25EC%259D%2598%25EB%25AF%25B8%25EB%259E%2598%25EA%25B0%2580%25EB%2590%25A0%25EC%25A0%258A%25EC%259D%2580%25EC%259E%2591%25EA%25B0%2580&amp;hashNm=%ed%95%9c%ea%b5%ad%eb%ac%b8%ed%95%99%ec%9d%98%eb%af%b8%eb%9e%98%ea%b0%80%eb%90%a0%ec%a0%8a%ec%9d%80%ec%9e%91%ea%b0%80\" onclick=\"wiseLogV2('BS', '001_005_005', ''); setTagClickExtraCode('100', '한국문학의미래가될젊은작가', '143911524','8868');\">#한국문학의미래가될젊은작가</a>\n",
       "</span>\n",
       "<span class=\"tag\">\n",
       "<a href=\"https://www.yes24.com/product/search?domain=ALL&amp;query=%25EB%25AA%25B0%25EC%259E%2585%25ED%2595%2598%25EB%258A%2594%25EB%25B2%2595&amp;hashNm=%eb%aa%b0%ec%9e%85%ed%95%98%eb%8a%94%eb%b2%95\" onclick=\"wiseLogV2('BS', '001_005_005', ''); setTagClickExtraCode('100', '몰입하는법', '143911524','6066');\">#몰입하는법</a>\n",
       "</span>\n",
       "<span class=\"tag\">\n",
       "<a href=\"https://www.yes24.com/product/search?domain=ALL&amp;query=%25ED%2598%2584%25EC%258B%25A4%25EC%259D%2584%25EA%25B7%25B8%25EB%25A0%25B8%25EC%2596%25B4%25EC%259A%2594&amp;hashNm=%ed%98%84%ec%8b%a4%ec%9d%84%ea%b7%b8%eb%a0%b8%ec%96%b4%ec%9a%94\" onclick=\"wiseLogV2('BS', '001_005_005', ''); setTagClickExtraCode('100', '현실을그렸어요', '143911524','2208');\">#현실을그렸어요</a>\n",
       "</span>\n",
       "<span class=\"tag\">\n",
       "<a href=\"https://www.yes24.com/product/search?domain=ALL&amp;query=%25EB%25B8%2594%25EB%259E%2599%25EC%25BD%2594%25EB%25AF%25B8%25EB%2594%2594&amp;hashNm=%eb%b8%94%eb%9e%99%ec%bd%94%eb%af%b8%eb%94%94\" onclick=\"wiseLogV2('BS', '001_005_005', ''); setTagClickExtraCode('100', '블랙코미디', '143911524','1722');\">#블랙코미디</a>\n",
       "</span>\n",
       "</div>\n",
       "<div class=\"info_row info_event\">\n",
       "<div class=\"event\">\n",
       "<span class=\"iconC freeD\"><em class=\"txt\">이벤트</em></span>\n",
       "<span class=\"iconC\"><em class=\"txt\">선착순</em></span>\n",
       "<span class=\"iconC\"><em class=\"txt\">사은품</em></span>\n",
       "<span class=\"iconC\"><em class=\"txt\">기획전</em></span>\n",
       "<span class=\"iconC\"><em class=\"txt\">초대</em></span>\n",
       "<span class=\"txt\"><a href=\"https://event.yes24.com/youngAuthor/2025?p=final\">2025 젊은 작가 투표 1위, 조예은!</a></span>\n",
       "<span class=\"date\">(25.07.16 ~ 25.09.01)</span>\n",
       "</div>\n",
       "</div>\n",
       "<div class=\"info_row info_relG\">\n",
       "                    관련상품 :                            <span class=\"relG\"><a href=\"/product/goods/144649045\">eBook <span class=\"relG_num\">14,400원</span></a></span>\n",
       "</div>\n",
       "</div>"
      ]
     },
     "execution_count": 18,
     "metadata": {},
     "output_type": "execute_result"
    }
   ],
   "source": [
    "best_list_el[0]"
   ]
  },
  {
   "cell_type": "code",
   "execution_count": 19,
   "id": "0f751466",
   "metadata": {},
   "outputs": [
    {
     "name": "stdout",
     "output_type": "stream",
     "text": [
      "1, 혼모노, 성해나, 16,200원\n",
      "2, 류수영의 평생 레시피, 류수영, 22,500원\n",
      "3, 가공범, 히가시노 게이고, 19,800원\n",
      "4, 돌비공포라디오 더 레드, 돌비, 17,820원\n",
      "5, 2025 큰별쌤 최태성의 별별한국사 한국사능력검정시험 심화(1,2,3급) 상, 최태성, 14,850원\n",
      "6, 박곰희 연금 부자 수업, 박곰희, 18,900원\n",
      "7, 2025 큰별쌤 최태성의 별별한국사 기출 500제 한국사능력검정시험 심화(1,2,3급), 최태성, 17,550원\n",
      "8, 단 한 줄만 내 마음에 새긴다고 해도, 나민애, 21,420원\n",
      "9, 2025 큰별쌤 최태성의 별별한국사 한국사능력검정시험 심화(1,2,3급) 하, 최태성, 14,400원\n",
      "10, ETS 토익 정기시험 기출문제집 1000 Vol. 4 RC, ETS, 17,820원\n",
      "11, ETS 토익 정기시험 기출문제집 1000 Vol. 4 LC, ETS, 17,820원\n",
      "12, 료의 생각 없는 생각, 료, 18,000원\n",
      "13, 모순, 양귀자, 11,700원\n",
      "14, 안녕이라 그랬어, 김애란, 15,120원\n",
      "15, 자몽살구클럽, 한로로, 10,800원\n",
      "16, 인생을 바꾸는 최고의 ETF, 잼투리, 22,050원\n",
      "17, 청춘의 독서, 유시민, 17,010원\n",
      "18, 소년이 온다, 한강, 13,500원\n",
      "19, 첫 여름, 완주, 김금희, 15,300원\n",
      "20, 경험의 멸종, 크리스틴 로젠, 17,820원\n",
      "21, 어른의 행복은 조용하다, 태수, 16,020원\n",
      "22, 견우와 선녀 대본집 세트, 양지훈, 41,400원\n",
      "23, 어른의 품격을 채우는 100일 필사 노트, 김종원, 18,000원\n",
      "24, 야구선수 김원중, 김원중, 18,000원\n"
     ]
    }
   ],
   "source": [
    "book_list = []\n",
    "\n",
    "for i, item in enumerate(best_list_el):\n",
    "    title = item.select_one('div.info_name > a').text\n",
    "    author = item.select_one('.info_auth > a').text\n",
    "    price = item.select_one('div.info_price > strong').text\n",
    "    book_list.append(Book(i+1, title, author, price))\n",
    "\n",
    "for book in book_list:\n",
    "    print(book)"
   ]
  },
  {
   "cell_type": "code",
   "execution_count": 20,
   "id": "5f204822",
   "metadata": {},
   "outputs": [],
   "source": [
    "query = '''\n",
    "CREATE TABLE IF NOT EXISTS BOOKS(\n",
    "    RANK INTEGER PRIMARY KEY,\n",
    "    TITLE TEXT,\n",
    "    AUTHOR TEXT,\n",
    "    PRICE INTEGER\n",
    ")\n",
    "'''"
   ]
  },
  {
   "cell_type": "code",
   "execution_count": 21,
   "id": "2a7245da",
   "metadata": {},
   "outputs": [],
   "source": [
    "import sqlite3\n",
    "conn = sqlite3.connect('my_database.db')\n",
    "cursor = conn.cursor()\n",
    "cursor.execute(query)\n",
    "conn.commit()\n",
    "conn.close()"
   ]
  },
  {
   "cell_type": "code",
   "execution_count": 22,
   "id": "7d1cde2a",
   "metadata": {},
   "outputs": [],
   "source": [
    "ins_query = '''\n",
    "INSERT INTO BOOKS (RANK, TITLE, AUTHOR, PRICE) VALUES (?,?,?,?)\n",
    "'''\n",
    "\n",
    "conn = sqlite3.connect('my_database.db')\n",
    "cursor = conn.cursor()\n",
    "\n",
    "for b in book_list:  \n",
    "    cursor.execute(ins_query, b.to_list())\n",
    "\n",
    "conn.commit()\n",
    "conn.close()"
   ]
  },
  {
   "cell_type": "code",
   "execution_count": null,
   "id": "c8d180db",
   "metadata": {},
   "outputs": [],
   "source": []
  },
  {
   "cell_type": "markdown",
   "id": "1c770263",
   "metadata": {},
   "source": [
    "# db table에서 읽어오기"
   ]
  },
  {
   "cell_type": "code",
   "execution_count": 23,
   "id": "60983a8d",
   "metadata": {},
   "outputs": [],
   "source": [
    "def fetch_book_list_from_db():\n",
    "    conn = sqlite3.connect('my_database.db')\n",
    "    cursor = conn.cursor()\n",
    "    \n",
    "    try:\n",
    "        cursor.execute('select * from books')\n",
    "        rows = cursor.fetchall()\n",
    "        return rows\n",
    "    finally:\n",
    "        conn.close()"
   ]
  },
  {
   "cell_type": "markdown",
   "id": "9c3d3344",
   "metadata": {},
   "source": [
    "# 여러페이지 가져오기"
   ]
  },
  {
   "cell_type": "code",
   "execution_count": 24,
   "id": "994bd231",
   "metadata": {},
   "outputs": [
    {
     "name": "stdout",
     "output_type": "stream",
     "text": [
      "(1, '혼모노', '성해나', '16,200원')\n",
      "(2, '류수영의 평생 레시피', '류수영', '22,500원')\n",
      "(3, '가공범', '히가시노 게이고', '19,800원')\n",
      "(4, '돌비공포라디오 더 레드', '돌비', '17,820원')\n",
      "(5, '2025 큰별쌤 최태성의 별별한국사 한국사능력검정시험 심화(1,2,3급) 상', '최태성', '14,850원')\n",
      "(6, '박곰희 연금 부자 수업', '박곰희', '18,900원')\n",
      "(7, '2025 큰별쌤 최태성의 별별한국사 기출 500제 한국사능력검정시험 심화(1,2,3급)', '최태성', '17,550원')\n",
      "(8, '단 한 줄만 내 마음에 새긴다고 해도', '나민애', '21,420원')\n",
      "(9, '2025 큰별쌤 최태성의 별별한국사 한국사능력검정시험 심화(1,2,3급) 하', '최태성', '14,400원')\n",
      "(10, 'ETS 토익 정기시험 기출문제집 1000 Vol. 4 RC', 'ETS', '17,820원')\n",
      "(11, 'ETS 토익 정기시험 기출문제집 1000 Vol. 4 LC', 'ETS', '17,820원')\n",
      "(12, '료의 생각 없는 생각', '료', '18,000원')\n",
      "(13, '모순', '양귀자', '11,700원')\n",
      "(14, '안녕이라 그랬어', '김애란', '15,120원')\n",
      "(15, '자몽살구클럽', '한로로', '10,800원')\n",
      "(16, '인생을 바꾸는 최고의 ETF', '잼투리', '22,050원')\n",
      "(17, '청춘의 독서', '유시민', '17,010원')\n",
      "(18, '소년이 온다', '한강', '13,500원')\n",
      "(19, '첫 여름, 완주', '김금희', '15,300원')\n",
      "(20, '경험의 멸종', '크리스틴 로젠', '17,820원')\n",
      "(21, '어른의 행복은 조용하다', '태수', '16,020원')\n",
      "(22, '견우와 선녀 대본집 세트', '양지훈', '41,400원')\n",
      "(23, '어른의 품격을 채우는 100일 필사 노트', '김종원', '18,000원')\n",
      "(24, '야구선수 김원중', '김원중', '18,000원')\n"
     ]
    }
   ],
   "source": [
    "books = fetch_book_list_from_db()\n",
    "for book in books:\n",
    "    print(book)"
   ]
  },
  {
   "cell_type": "code",
   "execution_count": 25,
   "id": "d70568bc",
   "metadata": {},
   "outputs": [
    {
     "data": {
      "text/plain": [
       "72"
      ]
     },
     "execution_count": 25,
     "metadata": {},
     "output_type": "execute_result"
    }
   ],
   "source": [
    "base_url = 'https://www.yes24.com/product/category/bestseller?categoryNumber=001&pageSize=24&pageNumber='\n",
    "page_no = 3\n",
    "book_list = []\n",
    "\n",
    "# 페이지 연결\n",
    "for page in range(1, page_no+1):\n",
    "    url = f'{base_url}{page}'\n",
    "    res = requests.get(url)\n",
    "    soup = BeautifulSoup(res.content, 'html.parser')\n",
    "    best_list_el = soup.select('#yesBestList div.item_info')\n",
    "\n",
    "    # 요소 추출\n",
    "    for i, item in enumerate(best_list_el):\n",
    "        title = item.select_one('div.info_name > a').text\n",
    "        author = item.select_one('.info_auth > a').text\n",
    "        price = item.select_one('div.info_price > strong').text\n",
    "        book_list.append(Book(i+1, title, author, price))\n",
    "    \n",
    "len(book_list)"
   ]
  },
  {
   "cell_type": "code",
   "execution_count": 26,
   "id": "678f1a97",
   "metadata": {},
   "outputs": [
    {
     "name": "stdout",
     "output_type": "stream",
     "text": [
      "1, 혼모노, 성해나, 16,200원\n",
      "2, 류수영의 평생 레시피, 류수영, 22,500원\n",
      "3, 가공범, 히가시노 게이고, 19,800원\n",
      "4, 돌비공포라디오 더 레드, 돌비, 17,820원\n",
      "5, 2025 큰별쌤 최태성의 별별한국사 한국사능력검정시험 심화(1,2,3급) 상, 최태성, 14,850원\n",
      "6, 박곰희 연금 부자 수업, 박곰희, 18,900원\n",
      "7, 2025 큰별쌤 최태성의 별별한국사 기출 500제 한국사능력검정시험 심화(1,2,3급), 최태성, 17,550원\n",
      "8, 단 한 줄만 내 마음에 새긴다고 해도, 나민애, 21,420원\n",
      "9, 2025 큰별쌤 최태성의 별별한국사 한국사능력검정시험 심화(1,2,3급) 하, 최태성, 14,400원\n",
      "10, ETS 토익 정기시험 기출문제집 1000 Vol. 4 RC, ETS, 17,820원\n",
      "11, ETS 토익 정기시험 기출문제집 1000 Vol. 4 LC, ETS, 17,820원\n",
      "12, 료의 생각 없는 생각, 료, 18,000원\n",
      "13, 모순, 양귀자, 11,700원\n",
      "14, 안녕이라 그랬어, 김애란, 15,120원\n",
      "15, 자몽살구클럽, 한로로, 10,800원\n",
      "16, 인생을 바꾸는 최고의 ETF, 잼투리, 22,050원\n",
      "17, 청춘의 독서, 유시민, 17,010원\n",
      "18, 소년이 온다, 한강, 13,500원\n",
      "19, 첫 여름, 완주, 김금희, 15,300원\n",
      "20, 경험의 멸종, 크리스틴 로젠, 17,820원\n",
      "21, 어른의 행복은 조용하다, 태수, 16,020원\n",
      "22, 견우와 선녀 대본집 세트, 양지훈, 41,400원\n",
      "23, 어른의 품격을 채우는 100일 필사 노트, 김종원, 18,000원\n",
      "24, 야구선수 김원중, 김원중, 18,000원\n",
      "1, 다크 심리학, 다크 사이드 프로젝트, 19,710원\n",
      "2, 궤도, 서맨사 하비, 15,300원\n",
      "3, 먹어 보면 알지 : 호랑수박의 전설, 이지은, 15,300원\n",
      "4, 해커스 토익 기출 VOCA (보카), David Cho, 11,610원\n",
      "5, 2026 유휘운 행정법총론 요약노트+기출문제 (요.플.), 유휘운, 31,500원\n",
      "6, 편안함의 습격, 마이클 이스터, 19,800원\n",
      "7, 러닝&마라톤 무작정 따라하기, 김병현, 24,750원\n",
      "8, 푸른 사자 와니니 8, 이현, 12,420원\n",
      "9, 급류, 정대건, 12,600원\n",
      "10, 단 한 번의 삶, 김영하, 15,120원\n",
      "11, 글로벌 주식 투자 빅 시프트, 메리츠증권 리서치센터, 29,700원\n",
      "12, 2026 써니 행정법총론 기본서, 박준철, 38,700원\n",
      "13, 초역 부처의 말, 코이케 류노스케, 16,020원\n",
      "14, 고양이 해결사 깜냥 8, 홍민정, 12,600원\n",
      "15, 초보자를 단숨에 고수로 만드는 주식투자 핵심 수업, 이정윤, 22,500원\n",
      "16, 윈드 브레이커 9~10 세트, 니이 사토루, 10,800원\n",
      "17, 새로운 질서, 헨리 A. 키신저, 17,820원\n",
      "18, 위버멘쉬, 프리드리히 니체, 16,020원\n",
      "19, 너에게 들려주는 꿋꿋한 말, 김종원, 16,200원\n",
      "20, 드디어 만나는 해부학 수업, 케빈 랭포드, 17,910원\n",
      "21, SQL 자격검정 실전문제, 한국데이터진흥원, 17,460원\n",
      "22, 큰별쌤 최태성의 별별한국사 시대별 기출문제집 한국사능력검정시험 심화(1,2,3급), 최태성, 17,730원\n",
      "23, 관상진료학, 마창석, 22,500원\n",
      "24, 너에게 들려주는 단단한 말, 김종원, 16,200원\n",
      "1, 노션 템플릿 상점, Rei, 19,800원\n",
      "2, 고전이 답했다 마땅히 가져야 할 부에 대하여, 고명환, 16,020원\n",
      "3, 미술관에 간 할미, 할미, 18,900원\n",
      "4, 해커스 일본어 첫걸음 : 일본어 기초 20일 독학 완성!, 해커스 일본어연구소, 12,510원\n",
      "5, 진조쌤 35일 기적의 수영책, 진종남, 15,750원\n",
      "6, 장미와 나이프, 히가시노 게이고, 16,200원\n",
      "7, 듀얼 브레인, 이선 몰릭, 18,900원\n",
      "8, 하루 한 장 나의 어휘력을 위한 필사 노트, 유선경, 21,420원\n",
      "9, 도둑맞은 권력, 진짜 보수, 윤석만, 17,820원\n",
      "10, 장송의 프리렌 14 한정판, 야마다 카네히토, 14,400원\n",
      "11, 젊음은 나이가 아니라 호르몬이 만든다, 안철우, 16,920원\n",
      "12, 해커스 토익 RC Reading(리딩) 기본서, David Cho, 16,920원\n",
      "13, 의사를 노리는 하이에나들, 마창석, 30,000원\n",
      "14, 여름을 한 입 베어 물었더니, 이꽃님, 11,250원\n",
      "15, 우리의 낙원에서 만나자, 하태완, 17,550원\n",
      "16, Again! 뒤집어본 영문법, 오성호, 13,410원\n",
      "17, 최소한의 한국사 (20만 부 기념 광복에디션), 최태성, 16,200원\n",
      "18, 넥서스, 유발 하라리, 25,020원\n",
      "19, 너를 아끼며 살아라, 나태주, 16,650원\n",
      "20, 오가미 츠미키와 기일상 3 더블특전판, 모리시타 미유, 5,400원\n",
      "21, 흔한남매 이무기 3, 흔한남매, 14,220원\n",
      "22, 채식주의자, 한강, 15,300원\n",
      "23, 돈의 심리학 (30만 부 기념 스페셜 에디션), 모건 하우절, 17,820원\n",
      "24, 재테크농부의 올라운드 투자, 재테크농부, 20,700원\n"
     ]
    }
   ],
   "source": [
    "for book in book_list:\n",
    "    print(book)"
   ]
  },
  {
   "cell_type": "markdown",
   "id": "06559f40",
   "metadata": {},
   "source": [
    "# mysql에 넣기"
   ]
  },
  {
   "cell_type": "code",
   "execution_count": 30,
   "id": "a511eb10",
   "metadata": {},
   "outputs": [],
   "source": [
    "import pymysql\n",
    "\n",
    "conn = pymysql.connect(\n",
    "    host='localhost', user='root', password='1234',  db='my_db',\n",
    "    charset='utf8'\n",
    ") \n",
    "\n",
    "cursor = conn.cursor()\n",
    "\n",
    "for book in book_list:\n",
    "    price = int(book.price.replace(',', '').replace('원', '').strip())\n",
    "    sql = \"INSERT INTO books (title, author, price) VALUES (%s, %s, %s)\"\n",
    "    cursor.execute(sql, (book.title, book.author, price))\n",
    "\n",
    "conn.commit()\n",
    "cursor.close()\n",
    "conn.close()\n"
   ]
  },
  {
   "cell_type": "code",
   "execution_count": null,
   "id": "622e2aa1",
   "metadata": {},
   "outputs": [],
   "source": []
  }
 ],
 "metadata": {
  "kernelspec": {
   "display_name": "webcrawl_env",
   "language": "python",
   "name": "python3"
  },
  "language_info": {
   "codemirror_mode": {
    "name": "ipython",
    "version": 3
   },
   "file_extension": ".py",
   "mimetype": "text/x-python",
   "name": "python",
   "nbconvert_exporter": "python",
   "pygments_lexer": "ipython3",
   "version": "3.10.18"
  }
 },
 "nbformat": 4,
 "nbformat_minor": 5
}
