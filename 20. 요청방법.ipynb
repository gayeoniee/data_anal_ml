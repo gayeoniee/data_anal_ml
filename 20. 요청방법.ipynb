{
 "cells": [
  {
   "cell_type": "code",
   "execution_count": 2,
   "id": "32856506",
   "metadata": {},
   "outputs": [],
   "source": [
    "import requests"
   ]
  },
  {
   "cell_type": "code",
   "execution_count": 5,
   "id": "f8dcc63a",
   "metadata": {},
   "outputs": [
    {
     "name": "stdout",
     "output_type": "stream",
     "text": [
      "{\n",
      "  \"args\": {}, \n",
      "  \"headers\": {\n",
      "    \"Accept\": \"*/*\", \n",
      "    \"Accept-Encoding\": \"gzip, deflate\", \n",
      "    \"Host\": \"httpbin.org\", \n",
      "    \"User-Agent\": \"python-requests/2.32.4\", \n",
      "    \"X-Amzn-Trace-Id\": \"Root=1-68870d6d-3663a21f6253497871c4f3bc\"\n",
      "  }, \n",
      "  \"origin\": \"118.36.174.103\", \n",
      "  \"url\": \"https://httpbin.org/get\"\n",
      "}\n",
      "\n"
     ]
    }
   ],
   "source": [
    "url = 'https://httpbin.org/get'\n",
    "response = requests.get(url)\n",
    "response.status_code\n",
    "print(response.text)"
   ]
  },
  {
   "cell_type": "code",
   "execution_count": 6,
   "id": "ce46de99",
   "metadata": {},
   "outputs": [
    {
     "name": "stdout",
     "output_type": "stream",
     "text": [
      "{\n",
      "  \"args\": {\n",
      "    \"age\": \"26\", \n",
      "    \"name\": \"gayeon\"\n",
      "  }, \n",
      "  \"headers\": {\n",
      "    \"Accept\": \"*/*\", \n",
      "    \"Accept-Encoding\": \"gzip, deflate\", \n",
      "    \"Host\": \"httpbin.org\", \n",
      "    \"User-Agent\": \"python-requests/2.32.4\", \n",
      "    \"X-Amzn-Trace-Id\": \"Root=1-68870e4e-000db5592fb5225637644ecd\"\n",
      "  }, \n",
      "  \"origin\": \"118.36.174.103\", \n",
      "  \"url\": \"https://httpbin.org/get?name=gayeon&age=26\"\n",
      "}\n",
      "\n"
     ]
    }
   ],
   "source": [
    "params = {           # 딕셔너리로 전달\n",
    "    'name':'gayeon',\n",
    "    'age':'26'\n",
    "}\n",
    "\n",
    "url = 'https://httpbin.org/get'\n",
    "response = requests.get(url, params=params)\n",
    "response.status_code\n",
    "print(response.text)"
   ]
  },
  {
   "cell_type": "code",
   "execution_count": 9,
   "id": "0d68ce2e",
   "metadata": {},
   "outputs": [
    {
     "name": "stdout",
     "output_type": "stream",
     "text": [
      "{\n",
      "  \"args\": {}, \n",
      "  \"data\": \"\", \n",
      "  \"files\": {}, \n",
      "  \"form\": {\n",
      "    \"key\": \"value\"\n",
      "  }, \n",
      "  \"headers\": {\n",
      "    \"Accept\": \"*/*\", \n",
      "    \"Accept-Encoding\": \"gzip, deflate\", \n",
      "    \"Content-Length\": \"9\", \n",
      "    \"Content-Type\": \"application/x-www-form-urlencoded\", \n",
      "    \"Host\": \"httpbin.org\", \n",
      "    \"User-Agent\": \"python-requests/2.32.4\", \n",
      "    \"X-Amzn-Trace-Id\": \"Root=1-68870eed-4dcc163b2ec1d2092d693967\"\n",
      "  }, \n",
      "  \"json\": null, \n",
      "  \"origin\": \"118.36.174.103\", \n",
      "  \"url\": \"https://httpbin.org/post\"\n",
      "}\n",
      "\n"
     ]
    }
   ],
   "source": [
    "url = 'https://httpbin.org/post'\n",
    "response = requests.post(url, data={'key':'value'})\n",
    "print(response.text)"
   ]
  },
  {
   "cell_type": "code",
   "execution_count": 11,
   "id": "7fb967aa",
   "metadata": {},
   "outputs": [
    {
     "data": {
      "text/plain": [
       "'application/x-www-form-urlencoded'"
      ]
     },
     "execution_count": 11,
     "metadata": {},
     "output_type": "execute_result"
    }
   ],
   "source": [
    "response.json()['headers']['Content-Type']"
   ]
  },
  {
   "cell_type": "code",
   "execution_count": 12,
   "id": "92d97f1d",
   "metadata": {},
   "outputs": [
    {
     "data": {
      "text/plain": [
       "'python-requests/2.32.4'"
      ]
     },
     "execution_count": 12,
     "metadata": {},
     "output_type": "execute_result"
    }
   ],
   "source": [
    "response.json()['headers']['User-Agent']"
   ]
  },
  {
   "cell_type": "code",
   "execution_count": 13,
   "id": "ca36495a",
   "metadata": {},
   "outputs": [
    {
     "name": "stdout",
     "output_type": "stream",
     "text": [
      "{\n",
      "  \"args\": {}, \n",
      "  \"data\": \"{\\\"key\\\": \\\"value\\\"}\", \n",
      "  \"files\": {}, \n",
      "  \"form\": {}, \n",
      "  \"headers\": {\n",
      "    \"Accept\": \"*/*\", \n",
      "    \"Accept-Encoding\": \"gzip, deflate\", \n",
      "    \"Content-Length\": \"16\", \n",
      "    \"Content-Type\": \"application/json\", \n",
      "    \"Host\": \"httpbin.org\", \n",
      "    \"User-Agent\": \"python-requests/2.32.4\", \n",
      "    \"X-Amzn-Trace-Id\": \"Root=1-68871005-40610e4e65d73723356ecfec\"\n",
      "  }, \n",
      "  \"json\": {\n",
      "    \"key\": \"value\"\n",
      "  }, \n",
      "  \"origin\": \"118.36.174.103\", \n",
      "  \"url\": \"https://httpbin.org/post\"\n",
      "}\n",
      "\n"
     ]
    }
   ],
   "source": [
    "url = 'https://httpbin.org/post'\n",
    "response = requests.post(url, json={'key':'value'})\n",
    "print(response.text)"
   ]
  },
  {
   "cell_type": "code",
   "execution_count": 15,
   "id": "5d016af3",
   "metadata": {},
   "outputs": [
    {
     "name": "stdout",
     "output_type": "stream",
     "text": [
      "{\n",
      "  \"args\": {}, \n",
      "  \"data\": \"\", \n",
      "  \"files\": {}, \n",
      "  \"form\": {\n",
      "    \"key\": \"value\"\n",
      "  }, \n",
      "  \"headers\": {\n",
      "    \"Accept\": \"*/*\", \n",
      "    \"Accept-Encoding\": \"gzip, deflate\", \n",
      "    \"Content-Length\": \"9\", \n",
      "    \"Content-Type\": \"application/x-www-form-urlencoded\", \n",
      "    \"Host\": \"httpbin.org\", \n",
      "    \"User-Agent\": \"python-requests/2.32.4\", \n",
      "    \"X-Amzn-Trace-Id\": \"Root=1-68871094-7a2f02e877ace3b90d88cf6b\"\n",
      "  }, \n",
      "  \"json\": null, \n",
      "  \"origin\": \"118.36.174.103\", \n",
      "  \"url\": \"https://httpbin.org/put\"\n",
      "}\n",
      "\n"
     ]
    }
   ],
   "source": [
    "response = requests.put('https://httpbin.org/put', data={'key': 'value'})\n",
    "print(response.text)     # 다 비어있음"
   ]
  },
  {
   "cell_type": "code",
   "execution_count": 16,
   "id": "a6a9d223",
   "metadata": {},
   "outputs": [
    {
     "name": "stdout",
     "output_type": "stream",
     "text": [
      "{\n",
      "  \"args\": {}, \n",
      "  \"data\": \"\", \n",
      "  \"files\": {}, \n",
      "  \"form\": {\n",
      "    \"key\": \"value\"\n",
      "  }, \n",
      "  \"headers\": {\n",
      "    \"Accept\": \"*/*\", \n",
      "    \"Accept-Encoding\": \"gzip, deflate\", \n",
      "    \"Content-Length\": \"9\", \n",
      "    \"Content-Type\": \"application/x-www-form-urlencoded\", \n",
      "    \"Host\": \"httpbin.org\", \n",
      "    \"User-Agent\": \"python-requests/2.32.4\", \n",
      "    \"X-Amzn-Trace-Id\": \"Root=1-688710ab-3af49d135eef32c7153efeae\"\n",
      "  }, \n",
      "  \"json\": null, \n",
      "  \"origin\": \"118.36.174.103\", \n",
      "  \"url\": \"https://httpbin.org/patch\"\n",
      "}\n",
      "\n"
     ]
    }
   ],
   "source": [
    "response = requests.patch('https://httpbin.org/patch', data={'key': 'value'})\n",
    "print(response.text)  "
   ]
  },
  {
   "cell_type": "code",
   "execution_count": null,
   "id": "e690a6cb",
   "metadata": {},
   "outputs": [],
   "source": []
  }
 ],
 "metadata": {
  "kernelspec": {
   "display_name": "webcrawl_env",
   "language": "python",
   "name": "python3"
  },
  "language_info": {
   "codemirror_mode": {
    "name": "ipython",
    "version": 3
   },
   "file_extension": ".py",
   "mimetype": "text/x-python",
   "name": "python",
   "nbconvert_exporter": "python",
   "pygments_lexer": "ipython3",
   "version": "3.10.18"
  }
 },
 "nbformat": 4,
 "nbformat_minor": 5
}
