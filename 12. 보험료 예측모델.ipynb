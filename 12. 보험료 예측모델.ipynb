{
 "cells": [
  {
   "cell_type": "markdown",
   "id": "8d51a60d",
   "metadata": {},
   "source": [
    "# 보험료 예측"
   ]
  },
  {
   "cell_type": "markdown",
   "id": "b21ce2d6",
   "metadata": {},
   "source": [
    "# 선형회귀 모델 작성, 예측, 평가"
   ]
  },
  {
   "cell_type": "code",
   "execution_count": 2,
   "id": "490aa51e",
   "metadata": {},
   "outputs": [],
   "source": [
    "import numpy as np\n",
    "import pandas as pd\n",
    "from sklearn.model_selection import train_test_split\n",
    "from sklearn.metrics import mean_squared_error, r2_score\n",
    "import matplotlib.pyplot as plt\n",
    "%matplotlib inline\n",
    "\n",
    "import warnings\n",
    "warnings.filterwarnings(action='ignore')"
   ]
  },
  {
   "cell_type": "code",
   "execution_count": 3,
   "id": "6cdb5c31",
   "metadata": {},
   "outputs": [
    {
     "data": {
      "text/html": [
       "<div>\n",
       "<style scoped>\n",
       "    .dataframe tbody tr th:only-of-type {\n",
       "        vertical-align: middle;\n",
       "    }\n",
       "\n",
       "    .dataframe tbody tr th {\n",
       "        vertical-align: top;\n",
       "    }\n",
       "\n",
       "    .dataframe thead th {\n",
       "        text-align: right;\n",
       "    }\n",
       "</style>\n",
       "<table border=\"1\" class=\"dataframe\">\n",
       "  <thead>\n",
       "    <tr style=\"text-align: right;\">\n",
       "      <th></th>\n",
       "      <th>age</th>\n",
       "      <th>sex</th>\n",
       "      <th>bmi</th>\n",
       "      <th>children</th>\n",
       "      <th>smoker</th>\n",
       "      <th>region</th>\n",
       "      <th>charges</th>\n",
       "    </tr>\n",
       "  </thead>\n",
       "  <tbody>\n",
       "    <tr>\n",
       "      <th>0</th>\n",
       "      <td>19</td>\n",
       "      <td>female</td>\n",
       "      <td>27.900</td>\n",
       "      <td>0</td>\n",
       "      <td>yes</td>\n",
       "      <td>southwest</td>\n",
       "      <td>16884.92400</td>\n",
       "    </tr>\n",
       "    <tr>\n",
       "      <th>1</th>\n",
       "      <td>18</td>\n",
       "      <td>male</td>\n",
       "      <td>33.770</td>\n",
       "      <td>1</td>\n",
       "      <td>no</td>\n",
       "      <td>southeast</td>\n",
       "      <td>1725.55230</td>\n",
       "    </tr>\n",
       "    <tr>\n",
       "      <th>2</th>\n",
       "      <td>28</td>\n",
       "      <td>male</td>\n",
       "      <td>33.000</td>\n",
       "      <td>3</td>\n",
       "      <td>no</td>\n",
       "      <td>southeast</td>\n",
       "      <td>4449.46200</td>\n",
       "    </tr>\n",
       "    <tr>\n",
       "      <th>3</th>\n",
       "      <td>33</td>\n",
       "      <td>male</td>\n",
       "      <td>22.705</td>\n",
       "      <td>0</td>\n",
       "      <td>no</td>\n",
       "      <td>northwest</td>\n",
       "      <td>21984.47061</td>\n",
       "    </tr>\n",
       "    <tr>\n",
       "      <th>4</th>\n",
       "      <td>32</td>\n",
       "      <td>male</td>\n",
       "      <td>28.880</td>\n",
       "      <td>0</td>\n",
       "      <td>no</td>\n",
       "      <td>northwest</td>\n",
       "      <td>3866.85520</td>\n",
       "    </tr>\n",
       "  </tbody>\n",
       "</table>\n",
       "</div>"
      ],
      "text/plain": [
       "   age     sex     bmi  children smoker     region      charges\n",
       "0   19  female  27.900         0    yes  southwest  16884.92400\n",
       "1   18    male  33.770         1     no  southeast   1725.55230\n",
       "2   28    male  33.000         3     no  southeast   4449.46200\n",
       "3   33    male  22.705         0     no  northwest  21984.47061\n",
       "4   32    male  28.880         0     no  northwest   3866.85520"
      ]
     },
     "execution_count": 3,
     "metadata": {},
     "output_type": "execute_result"
    }
   ],
   "source": [
    "premium_df = pd.read_csv('premium.csv')\n",
    "premium_df.head()"
   ]
  },
  {
   "cell_type": "code",
   "execution_count": 4,
   "id": "f09c7b1b",
   "metadata": {},
   "outputs": [
    {
     "name": "stdout",
     "output_type": "stream",
     "text": [
      "<class 'pandas.core.frame.DataFrame'>\n",
      "RangeIndex: 1338 entries, 0 to 1337\n",
      "Data columns (total 7 columns):\n",
      " #   Column    Non-Null Count  Dtype  \n",
      "---  ------    --------------  -----  \n",
      " 0   age       1338 non-null   int64  \n",
      " 1   sex       1338 non-null   object \n",
      " 2   bmi       1333 non-null   float64\n",
      " 3   children  1338 non-null   int64  \n",
      " 4   smoker    1338 non-null   object \n",
      " 5   region    1338 non-null   object \n",
      " 6   charges   1338 non-null   float64\n",
      "dtypes: float64(2), int64(2), object(3)\n",
      "memory usage: 73.3+ KB\n"
     ]
    }
   ],
   "source": [
    "premium_df.info()"
   ]
  },
  {
   "cell_type": "code",
   "execution_count": 5,
   "id": "e1b92b09",
   "metadata": {},
   "outputs": [
    {
     "data": {
      "text/plain": [
       "<Axes: xlabel='bmi', ylabel='Count'>"
      ]
     },
     "execution_count": 5,
     "metadata": {},
     "output_type": "execute_result"
    },
    {
     "data": {
      "image/png": "[encoded data removed]",
      "text/plain": [
       "<Figure size 640x480 with 1 Axes>"
      ]
     },
     "metadata": {},
     "output_type": "display_data"
    }
   ],
   "source": [
    "import seaborn as sns\n",
    "sns.histplot(premium_df['bmi'], kde=True)"
   ]
  },
  {
   "cell_type": "code",
   "execution_count": 6,
   "id": "464a892a",
   "metadata": {},
   "outputs": [],
   "source": [
    "premium_df['bmi'] = premium_df['bmi'].fillna(premium_df['bmi'].mean())"
   ]
  },
  {
   "cell_type": "code",
   "execution_count": 7,
   "id": "70beed41",
   "metadata": {},
   "outputs": [],
   "source": [
    "from sklearn.preprocessing import LabelEncoder\n",
    "\n",
    "le_sex = LabelEncoder()\n",
    "le_smoker = LabelEncoder()\n",
    "\n",
    "premium_df['sex'] = le_sex.fit_transform(premium_df['sex'])\n",
    "premium_df['smoker'] = le_smoker.fit_transform(premium_df['smoker'])\n",
    "\n",
    "premium_df = pd.get_dummies(premium_df, columns=['region'], drop_first=True)"
   ]
  },
  {
   "cell_type": "code",
   "execution_count": 8,
   "id": "1423f817",
   "metadata": {},
   "outputs": [],
   "source": [
    "X = premium_df.drop('charges', axis=1).values\n",
    "y = premium_df['charges'].values"
   ]
  },
  {
   "cell_type": "code",
   "execution_count": 9,
   "id": "a55cd787",
   "metadata": {},
   "outputs": [],
   "source": [
    "X_train, X_test, y_train, y_test = train_test_split(X, y, test_size=0.3, random_state=42)"
   ]
  },
  {
   "cell_type": "code",
   "execution_count": 10,
   "id": "8aa53290",
   "metadata": {},
   "outputs": [
    {
     "name": "stdout",
     "output_type": "stream",
     "text": [
      "lr의 MSE: 33775854.0455305, RMSE: 5811.699755280764, R2: 0.7696435568519837\n"
     ]
    }
   ],
   "source": [
    "from sklearn.linear_model import LinearRegression\n",
    "lr = LinearRegression()\n",
    "lr.fit(X_train, y_train)\n",
    "lr_pred = lr.predict(X_test)\n",
    "\n",
    "lr_mse = mean_squared_error(y_test, lr_pred)\n",
    "lr_rmse = np.sqrt(lr_mse)\n",
    "lr_r2 = r2_score(y_test, lr_pred)\n",
    "\n",
    "print(f'lr의 MSE: {lr_mse}, RMSE: {lr_rmse}, R2: {lr_r2}')"
   ]
  },
  {
   "cell_type": "code",
   "execution_count": 11,
   "id": "8ec8c74c",
   "metadata": {},
   "outputs": [
    {
     "name": "stdout",
     "output_type": "stream",
     "text": [
      "lr의 RMSE: 6085.754599270111, R2: 0.745781545550763\n"
     ]
    }
   ],
   "source": [
    "from sklearn.model_selection import cross_val_score\n",
    "neg_mse_scores = cross_val_score(lr, X, y, scoring='neg_mean_squared_error', cv=5)\n",
    "rmse = np.sqrt(neg_mse_scores * -1)\n",
    "r2_scores = cross_val_score(lr, X, y, scoring='r2', cv=5)\n",
    "\n",
    "print(f'lr의 RMSE: {np.mean(rmse)}, R2: {np.mean(r2_scores)}')"
   ]
  },
  {
   "cell_type": "code",
   "execution_count": null,
   "id": "389167de",
   "metadata": {},
   "outputs": [],
   "source": []
  },
  {
   "cell_type": "code",
   "execution_count": 12,
   "id": "c7da8f01",
   "metadata": {},
   "outputs": [
    {
     "name": "stdout",
     "output_type": "stream",
     "text": [
      "rf의 MSE: 18569044.489695415, RMSE: 4309.181417589124, R2: 0.8733563025367957\n"
     ]
    }
   ],
   "source": [
    "from sklearn.ensemble import RandomForestRegressor\n",
    "rf = RandomForestRegressor(\n",
    "    n_estimators=300,\n",
    "    max_depth=5,\n",
    "    min_samples_split=5,\n",
    "    min_samples_leaf=6,\n",
    "    random_state=42\n",
    "    )\n",
    "rf.fit(X_train, y_train)\n",
    "rf_pred = rf.predict(X_test)\n",
    "\n",
    "rf_mse = mean_squared_error(y_test, rf_pred)\n",
    "rf_rmse = np.sqrt(rf_mse)\n",
    "rf_r2 = r2_score(y_test, rf_pred)\n",
    "\n",
    "print(f'rf의 MSE: {rf_mse}, RMSE: {rf_rmse}, R2: {rf_r2}')"
   ]
  },
  {
   "cell_type": "code",
   "execution_count": 13,
   "id": "8908ccdf",
   "metadata": {},
   "outputs": [
    {
     "name": "stdout",
     "output_type": "stream",
     "text": [
      "rf의 RMSE: 4547.115583938444, R2: 0.856732576325693\n"
     ]
    }
   ],
   "source": [
    "neg_mse_scores = cross_val_score(rf, X, y, scoring='neg_mean_squared_error', cv=5)\n",
    "rmse = np.sqrt(neg_mse_scores * -1)\n",
    "r2_scores = cross_val_score(rf, X, y, scoring='r2', cv=5)\n",
    "\n",
    "print(f'rf의 RMSE: {np.mean(rmse)}, R2: {np.mean(r2_scores)}')"
   ]
  },
  {
   "cell_type": "code",
   "execution_count": 14,
   "id": "a08b4e90",
   "metadata": {},
   "outputs": [],
   "source": [
    "from sklearn.model_selection import GridSearchCV\n",
    "\n",
    "# params = {\n",
    "#     'n_estimators': [200, 300, 400],\n",
    "#     'max_depth': [None, 4, 5, 6],\n",
    "#     'min_samples_split': [5, 9, 10, 12],\n",
    "#     'min_samples_leaf': [4, 5, 6],\n",
    "# }\n",
    "\n",
    "# rf = RandomForestRegressor(random_state=42)\n",
    "# grid_search = GridSearchCV(rf, params, scoring='neg_mean_squared_error', cv=5)\n",
    "# grid_search.fit(X, y)\n",
    "\n",
    "# print(grid_search.best_params_)"
   ]
  },
  {
   "cell_type": "markdown",
   "id": "721b6477",
   "metadata": {},
   "source": [
    "# 다항회귀 비교"
   ]
  },
  {
   "cell_type": "code",
   "execution_count": 15,
   "id": "1cdf5b42",
   "metadata": {},
   "outputs": [],
   "source": [
    "from sklearn.pipeline import Pipeline\n",
    "from sklearn.preprocessing import PolynomialFeatures"
   ]
  },
  {
   "cell_type": "code",
   "execution_count": 16,
   "id": "0d79a0f7",
   "metadata": {},
   "outputs": [
    {
     "data": {
      "text/html": [
       "<div>\n",
       "<style scoped>\n",
       "    .dataframe tbody tr th:only-of-type {\n",
       "        vertical-align: middle;\n",
       "    }\n",
       "\n",
       "    .dataframe tbody tr th {\n",
       "        vertical-align: top;\n",
       "    }\n",
       "\n",
       "    .dataframe thead th {\n",
       "        text-align: right;\n",
       "    }\n",
       "</style>\n",
       "<table border=\"1\" class=\"dataframe\">\n",
       "  <thead>\n",
       "    <tr style=\"text-align: right;\">\n",
       "      <th></th>\n",
       "      <th>degree</th>\n",
       "      <th>MSE</th>\n",
       "      <th>RMSE</th>\n",
       "      <th>R2</th>\n",
       "    </tr>\n",
       "  </thead>\n",
       "  <tbody>\n",
       "    <tr>\n",
       "      <th>0</th>\n",
       "      <td>1</td>\n",
       "      <td>3.377585e+07</td>\n",
       "      <td>5811.699755</td>\n",
       "      <td>0.769644</td>\n",
       "    </tr>\n",
       "    <tr>\n",
       "      <th>1</th>\n",
       "      <td>2</td>\n",
       "      <td>2.068917e+07</td>\n",
       "      <td>4548.534768</td>\n",
       "      <td>0.858897</td>\n",
       "    </tr>\n",
       "    <tr>\n",
       "      <th>2</th>\n",
       "      <td>3</td>\n",
       "      <td>2.352564e+07</td>\n",
       "      <td>4850.323876</td>\n",
       "      <td>0.839552</td>\n",
       "    </tr>\n",
       "    <tr>\n",
       "      <th>3</th>\n",
       "      <td>4</td>\n",
       "      <td>4.343805e+07</td>\n",
       "      <td>6590.754811</td>\n",
       "      <td>0.703746</td>\n",
       "    </tr>\n",
       "    <tr>\n",
       "      <th>4</th>\n",
       "      <td>5</td>\n",
       "      <td>4.043791e+08</td>\n",
       "      <td>20109.180368</td>\n",
       "      <td>-1.757927</td>\n",
       "    </tr>\n",
       "  </tbody>\n",
       "</table>\n",
       "</div>"
      ],
      "text/plain": [
       "   degree           MSE          RMSE        R2\n",
       "0       1  3.377585e+07   5811.699755  0.769644\n",
       "1       2  2.068917e+07   4548.534768  0.858897\n",
       "2       3  2.352564e+07   4850.323876  0.839552\n",
       "3       4  4.343805e+07   6590.754811  0.703746\n",
       "4       5  4.043791e+08  20109.180368 -1.757927"
      ]
     },
     "execution_count": 16,
     "metadata": {},
     "output_type": "execute_result"
    }
   ],
   "source": [
    "results = []\n",
    "\n",
    "for degree in range(1, 6):\n",
    "    lr_model_poly = Pipeline([\n",
    "    ('poly', PolynomialFeatures(degree=degree, include_bias=False)),\n",
    "    ('linear', LinearRegression())\n",
    "    ])\n",
    "    lr_model_poly.fit(X_train, y_train)\n",
    "    lr_pred_poly = lr_model_poly.predict(X_test)\n",
    "    mse = mean_squared_error(y_test, lr_pred_poly)\n",
    "    rmse = np.sqrt(mse)\n",
    "    r2 = r2_score(y_test, lr_pred_poly)\n",
    "\n",
    "    results.append({'degree':degree, 'MSE':mse, 'RMSE':rmse, 'R2':r2})\n",
    "\n",
    "result_df = pd.DataFrame(results)\n",
    "result_df"
   ]
  },
  {
   "cell_type": "code",
   "execution_count": 23,
   "id": "2d190b4b",
   "metadata": {},
   "outputs": [],
   "source": [
    "lr_model_poly = Pipeline([\n",
    "    ('poly', PolynomialFeatures(degree=2, include_bias=False)),\n",
    "    ('linear', LinearRegression())\n",
    "    ])\n",
    "\n",
    "lr_model_poly.fit(X_train, y_train)\n",
    "lr_pred_poly = lr_model_poly.predict(X_test)\n",
    "mse = mean_squared_error(y_test, lr_pred_poly)\n",
    "rmse = np.sqrt(mse)\n",
    "r2 = r2_score(y_test, lr_pred_poly)"
   ]
  },
  {
   "cell_type": "code",
   "execution_count": 17,
   "id": "7f7904f6",
   "metadata": {},
   "outputs": [
    {
     "data": {
      "image/png": "[encoded data removed]",
      "text/plain": [
       "<Figure size 1200x600 with 2 Axes>"
      ]
     },
     "metadata": {},
     "output_type": "display_data"
    }
   ],
   "source": [
    "plt.figure(figsize=(12, 6))\n",
    "\n",
    "# RMSE 그래프\n",
    "plt.subplot(1, 2, 1)\n",
    "plt.plot(result_df['degree'], result_df['RMSE'], marker='o')\n",
    "plt.title('Degree vs RMSE')\n",
    "plt.xlabel('Degree')\n",
    "plt.ylabel('RMSE')\n",
    "plt.grid(True)\n",
    "\n",
    "# r2 그래프\n",
    "plt.subplot(1, 2, 2)\n",
    "plt.plot(result_df['degree'], result_df['R2'], marker='o', color='green')\n",
    "plt.title('Degree vs r2 Score')\n",
    "plt.xlabel('Degree')\n",
    "plt.ylabel('r2 Score')\n",
    "plt.grid(True)\n",
    "\n",
    "plt.tight_layout()\n",
    "plt.show()"
   ]
  },
  {
   "cell_type": "code",
   "execution_count": 20,
   "id": "9673ce57",
   "metadata": {},
   "outputs": [
    {
     "name": "stdout",
     "output_type": "stream",
     "text": [
      "ridge cv mse : 33812978.71880407, r2: 0.7693903609542041\n"
     ]
    }
   ],
   "source": [
    "from sklearn.linear_model import RidgeCV, LassoCV, ElasticNet\n",
    "\n",
    "alphas = [0.001, 0.01, 0.1, 1, 10, 100]\n",
    "ridge_cv = RidgeCV(alphas=alphas, cv=5)\n",
    "ridge_cv.fit(X_train, y_train)\n",
    "ridge_preds = ridge_cv.predict(X_test)\n",
    "ridge_mse = mean_squared_error(y_test, ridge_preds)\n",
    "ridge_r2 = r2_score(y_test, ridge_preds)\n",
    "\n",
    "print(f'ridge cv mse : {ridge_mse}, r2: {ridge_r2}')"
   ]
  },
  {
   "cell_type": "code",
   "execution_count": 21,
   "id": "27fcd32f",
   "metadata": {},
   "outputs": [
    {
     "name": "stdout",
     "output_type": "stream",
     "text": [
      "ridge cv mse : 34127013.26395648, r2: 0.7672485977659395\n"
     ]
    }
   ],
   "source": [
    "alphas = [0.001, 0.01, 0.1, 1, 10, 100]\n",
    "lasso_cv = LassoCV(alphas=alphas, cv=5)\n",
    "lasso_cv.fit(X_train, y_train)\n",
    "lasso_preds = lasso_cv.predict(X_test)\n",
    "lasso_mse = mean_squared_error(y_test, lasso_preds)\n",
    "lasso_r2 = r2_score(y_test, lasso_preds)\n",
    "\n",
    "print(f'ridge cv mse : {lasso_mse}, r2: {lasso_r2}')"
   ]
  },
  {
   "cell_type": "code",
   "execution_count": 22,
   "id": "85aa024f",
   "metadata": {},
   "outputs": [
    {
     "data": {
      "text/plain": [
       "(np.float64(39739539.20991064), np.float64(0.7289703202650026))"
      ]
     },
     "execution_count": 22,
     "metadata": {},
     "output_type": "execute_result"
    }
   ],
   "source": [
    "enet = ElasticNet(alpha=0.1, l1_ratio=0.5)\n",
    "enet.fit(X_train, y_train)\n",
    "\n",
    "ent_pred = enet.predict(X_test)\n",
    "mse = mean_squared_error(y_test, ent_pred)\n",
    "r2 = r2_score(y_test, ent_pred)\n",
    "\n",
    "mse, r2"
   ]
  },
  {
   "cell_type": "code",
   "execution_count": 25,
   "id": "3a938a04",
   "metadata": {},
   "outputs": [
    {
     "data": {
      "text/html": [
       "<div>\n",
       "<style scoped>\n",
       "    .dataframe tbody tr th:only-of-type {\n",
       "        vertical-align: middle;\n",
       "    }\n",
       "\n",
       "    .dataframe tbody tr th {\n",
       "        vertical-align: top;\n",
       "    }\n",
       "\n",
       "    .dataframe thead th {\n",
       "        text-align: right;\n",
       "    }\n",
       "</style>\n",
       "<table border=\"1\" class=\"dataframe\">\n",
       "  <thead>\n",
       "    <tr style=\"text-align: right;\">\n",
       "      <th></th>\n",
       "      <th>모델</th>\n",
       "      <th>MSE</th>\n",
       "      <th>R2</th>\n",
       "    </tr>\n",
       "  </thead>\n",
       "  <tbody>\n",
       "    <tr>\n",
       "      <th>0</th>\n",
       "      <td>다항회귀</td>\n",
       "      <td>2.068917e+07</td>\n",
       "      <td>0.858897</td>\n",
       "    </tr>\n",
       "    <tr>\n",
       "      <th>1</th>\n",
       "      <td>릿지회귀</td>\n",
       "      <td>3.381298e+07</td>\n",
       "      <td>0.769390</td>\n",
       "    </tr>\n",
       "    <tr>\n",
       "      <th>2</th>\n",
       "      <td>라쏘회귀</td>\n",
       "      <td>3.412701e+07</td>\n",
       "      <td>0.767249</td>\n",
       "    </tr>\n",
       "    <tr>\n",
       "      <th>3</th>\n",
       "      <td>엘라스틱넷회귀</td>\n",
       "      <td>3.973954e+07</td>\n",
       "      <td>0.728970</td>\n",
       "    </tr>\n",
       "  </tbody>\n",
       "</table>\n",
       "</div>"
      ],
      "text/plain": [
       "        모델           MSE        R2\n",
       "0     다항회귀  2.068917e+07  0.858897\n",
       "1     릿지회귀  3.381298e+07  0.769390\n",
       "2     라쏘회귀  3.412701e+07  0.767249\n",
       "3  엘라스틱넷회귀  3.973954e+07  0.728970"
      ]
     },
     "execution_count": 25,
     "metadata": {},
     "output_type": "execute_result"
    }
   ],
   "source": [
    "results = pd.DataFrame(\n",
    "    {\n",
    "        '모델' : ['다항회귀', '릿지회귀', '라쏘회귀', '엘라스틱넷회귀'],\n",
    "        'MSE' : [mean_squared_error(y_test, lr_pred_poly), \n",
    "                 mean_squared_error(y_test, ridge_preds),\n",
    "                 mean_squared_error(y_test, lasso_preds),\n",
    "                 mean_squared_error(y_test, ent_pred)],\n",
    "        'R2' : [r2_score(y_test, lr_pred_poly), \n",
    "                 r2_score(y_test, ridge_preds),\n",
    "                 r2_score(y_test, lasso_preds),\n",
    "                 r2_score(y_test, ent_pred)]\n",
    "    }\n",
    ")\n",
    "\n",
    "results"
   ]
  },
  {
   "cell_type": "code",
   "execution_count": null,
   "id": "b8ec5bf2",
   "metadata": {},
   "outputs": [],
   "source": []
  }
 ],
 "metadata": {
  "kernelspec": {
   "display_name": "hi_ml_env",
   "language": "python",
   "name": "python3"
  },
  "language_info": {
   "codemirror_mode": {
    "name": "ipython",
    "version": 3
   },
   "file_extension": ".py",
   "mimetype": "text/x-python",
   "name": "python",
   "nbconvert_exporter": "python",
   "pygments_lexer": "ipython3",
   "version": "3.10.16"
  }
 },
 "nbformat": 4,
 "nbformat_minor": 5
}
